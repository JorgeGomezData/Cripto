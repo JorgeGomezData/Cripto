{
 "cells": [
  {
   "cell_type": "code",
   "execution_count": 174,
   "metadata": {},
   "outputs": [],
   "source": [
    "# Se importan las librerias que necesitamos\n",
    "from pycoingecko import CoinGeckoAPI\n",
    "import pandas as pd\n",
    "import plotly.express as px\n",
    "import requests\n",
    "import datetime\n",
    "import matplotlib.pyplot as plt\n"
   ]
  },
  {
   "cell_type": "code",
   "execution_count": 175,
   "metadata": {},
   "outputs": [],
   "source": [
    "# Inicializa la API de CoinGecko\n",
    "cg = CoinGeckoAPI()\n",
    "\n",
    "# Obtiene los datos de todas las criptomonedas\n",
    "\n",
    "coins=cg.get_coins_list()\n"
   ]
  },
  {
   "cell_type": "code",
   "execution_count": 176,
   "metadata": {},
   "outputs": [],
   "source": [
    "df_coins=pd.DataFrame(coins)"
   ]
  },
  {
   "cell_type": "code",
   "execution_count": 177,
   "metadata": {},
   "outputs": [
    {
     "data": {
      "text/plain": [
       "<bound method NDFrame.head of                              id symbol                       name\n",
       "0                        01coin    zoc                     01coin\n",
       "1                        0chain    zcn                        Zus\n",
       "2                 0vix-protocol    vix              0VIX Protocol\n",
       "3                            0x    zrx                0x Protocol\n",
       "4      0x0-ai-ai-smart-contract    0x0  0x0.ai: AI Smart Contract\n",
       "...                         ...    ...                        ...\n",
       "10111                  zynecoin    zyn                   Zynecoin\n",
       "10112                   zynergy    zyn                    Zynergy\n",
       "10113                     zyrri    zyr                      Zyrri\n",
       "10114                       zyx    zyx                        ZYX\n",
       "10115                       zzz    zzz                GoSleep ZZZ\n",
       "\n",
       "[10116 rows x 3 columns]>"
      ]
     },
     "execution_count": 177,
     "metadata": {},
     "output_type": "execute_result"
    }
   ],
   "source": [
    "df_coins.head"
   ]
  },
  {
   "cell_type": "code",
   "execution_count": 178,
   "metadata": {},
   "outputs": [
    {
     "data": {
      "text/plain": [
       "Index(['id', 'symbol', 'name'], dtype='object')"
      ]
     },
     "execution_count": 178,
     "metadata": {},
     "output_type": "execute_result"
    }
   ],
   "source": [
    "df_coins.columns"
   ]
  },
  {
   "cell_type": "code",
   "execution_count": 179,
   "metadata": {},
   "outputs": [],
   "source": [
    "df_coins=cg.get_coins_list()\n",
    "coinDataframe=pd.DataFrame.from_dict(df_coins).sort_values('id').reset_index(drop=True)"
   ]
  },
  {
   "attachments": {},
   "cell_type": "markdown",
   "metadata": {},
   "source": [
    "### Selección de 10 criptomonedas para el análisis.\n",
    "\n",
    "|Criptomoneda| Descripción|\n",
    "|------------|------------|\n",
    "|Bitcoin (BTC)| Como la primera criptomoneda y la de mayor capitalización de mercado, es esencial para comprender el mercado en general y su impacto en otras criptomonedas.\n",
    "Ethereum (ETH)|Es conocida por su plataforma de contratos inteligentes y DApps, lo que la convierte en una criptomoneda influyente para el análisis de la tecnología blockchain.\n",
    "Binance Coin (BNB)|Utilizada en el ecosistema de Binance y para reducir tarifas de transacción, BNB podría ofrecer información sobre el funcionamiento interno de un exchange.\n",
    "Cardano (ADA)|Una criptomoneda que se centra en la escalabilidad y la sostenibilidad, y que puede proporcionar ideas sobre enfoques de blockchain más avanzados.\n",
    "Solana (SOL)|Una blockchain de alto rendimiento con aplicaciones en DeFi y NFTs, lo que la hace relevante para entender nuevas tendencias en criptomonedas.\n",
    "Polkadot (DOT)|Una plataforma que busca conectar múltiples blockchains, lo que podría arrojar luz sobre la interoperabilidad entre diferentes criptomonedas.\n",
    "Ripple (XRP)|Con un enfoque en las transacciones internacionales y la colaboración con instituciones financieras, XRP puede proporcionar información sobre casos de uso en el sector financiero.\n",
    "Dogecoin (DOGE)|Conocida por su naturaleza meme, DOGE puede ser interesante para analizar el efecto de las redes sociales en el precio y la adopción de criptomonedas.\n",
    "USD Coin (USDC)|Una stablecoin respaldada por dólares estadounidenses, que puede ofrecer información sobre la relación entre las criptomonedas y las monedas tradicionales.\n"
   ]
  },
  {
   "attachments": {},
   "cell_type": "markdown",
   "metadata": {},
   "source": [
    "#### Consulta de las id de cada una de las monedas escogidas para el análisis"
   ]
  },
  {
   "cell_type": "code",
   "execution_count": 180,
   "metadata": {},
   "outputs": [
    {
     "data": {
      "text/html": [
       "<div>\n",
       "<style scoped>\n",
       "    .dataframe tbody tr th:only-of-type {\n",
       "        vertical-align: middle;\n",
       "    }\n",
       "\n",
       "    .dataframe tbody tr th {\n",
       "        vertical-align: top;\n",
       "    }\n",
       "\n",
       "    .dataframe thead th {\n",
       "        text-align: right;\n",
       "    }\n",
       "</style>\n",
       "<table border=\"1\" class=\"dataframe\">\n",
       "  <thead>\n",
       "    <tr style=\"text-align: right;\">\n",
       "      <th></th>\n",
       "      <th>id</th>\n",
       "      <th>symbol</th>\n",
       "      <th>name</th>\n",
       "    </tr>\n",
       "  </thead>\n",
       "  <tbody>\n",
       "    <tr>\n",
       "      <th>67</th>\n",
       "      <td>aave</td>\n",
       "      <td>aave</td>\n",
       "      <td>Aave</td>\n",
       "    </tr>\n",
       "  </tbody>\n",
       "</table>\n",
       "</div>"
      ],
      "text/plain": [
       "      id symbol  name\n",
       "67  aave   aave  Aave"
      ]
     },
     "execution_count": 180,
     "metadata": {},
     "output_type": "execute_result"
    }
   ],
   "source": [
    "#coinDataframe[coinDataframe['id']=='bitcoin']\n",
    "#coinDataframe[coinDataframe['id']=='ethereum']\n",
    "#coinDataframe[coinDataframe['id']=='cardano']\n",
    "#coinDataframe[coinDataframe['id']=='solana']\n",
    "#coinDataframe[coinDataframe['id']=='polkadot']\n",
    "#coinDataframe[coinDataframe['id']=='ripple']\n",
    "#coinDataframe[coinDataframe['id']=='dogecoin']\n",
    "coinDataframe[coinDataframe['id']=='aave']\n",
    "#coinDataframe[coinDataframe['name']=='USD Coin']\n",
    "#coinDataframe[coinDataframe['id']=='binancecoin']\n",
    "#coinDataframe[coinDataframe['id']=='solana']"
   ]
  },
  {
   "cell_type": "code",
   "execution_count": 181,
   "metadata": {},
   "outputs": [],
   "source": [
    "#cración de una lista de mondesas con cada una de las 'id'\n",
    "coins_analysis=['bitcoin', 'ethereum', 'cardano','polkadot', 'ripple', 'dogecoin','usd-coin', 'binancecoin','solana']"
   ]
  },
  {
   "cell_type": "code",
   "execution_count": 182,
   "metadata": {},
   "outputs": [],
   "source": [
    "#Lista de las monedas (Currencies) con las cuales se comparan las cripto\n",
    "vsCurrencies=['usd','eur']"
   ]
  },
  {
   "cell_type": "code",
   "execution_count": 183,
   "metadata": {},
   "outputs": [],
   "source": [
    "#simplePriceRequest= cg.get_price(ids=coins_analysis, vs_currencies='usd')\n",
    "#print (simplePriceRequest)"
   ]
  },
  {
   "cell_type": "code",
   "execution_count": 184,
   "metadata": {},
   "outputs": [],
   "source": [
    "#all_coins = cg.get_coins_markets(vs_currency=('usd'), category= 'stablecoins', order= 'volume_desc')"
   ]
  },
  {
   "cell_type": "code",
   "execution_count": 185,
   "metadata": {},
   "outputs": [],
   "source": [
    "#Aplicación del Endpoint get_coins_markets de la api coingecko\n",
    "coinsMktDataByIds=cg.get_coins_markets(vs_currency='usd',ids= coins_analysis)\n",
    "#print(coinsMktDataByIds)\n",
    "\n",
    "#Creación del DataFrame a partir de los datos resultantes de la aplicación del EndPoint get_coins_markets de la api coingecko\n",
    "CoinsMktAnalysis= pd.DataFrame(coinsMktDataByIds)"
   ]
  },
  {
   "attachments": {},
   "cell_type": "markdown",
   "metadata": {},
   "source": [
    "### Análisis de la información del Dataframe"
   ]
  },
  {
   "cell_type": "code",
   "execution_count": 186,
   "metadata": {},
   "outputs": [
    {
     "data": {
      "text/plain": [
       "<bound method NDFrame.head of             id symbol      name  \\\n",
       "0      bitcoin    btc   Bitcoin   \n",
       "1     ethereum    eth  Ethereum   \n",
       "2  binancecoin    bnb       BNB   \n",
       "3       ripple    xrp       XRP   \n",
       "4     usd-coin   usdc  USD Coin   \n",
       "5      cardano    ada   Cardano   \n",
       "6     dogecoin   doge  Dogecoin   \n",
       "7       solana    sol    Solana   \n",
       "8     polkadot    dot  Polkadot   \n",
       "\n",
       "                                               image  current_price  \\\n",
       "0  https://assets.coingecko.com/coins/images/1/la...   26081.000000   \n",
       "1  https://assets.coingecko.com/coins/images/279/...    1671.860000   \n",
       "2  https://assets.coingecko.com/coins/images/825/...     209.410000   \n",
       "3  https://assets.coingecko.com/coins/images/44/l...       0.524521   \n",
       "4  https://assets.coingecko.com/coins/images/6319...       1.002000   \n",
       "5  https://assets.coingecko.com/coins/images/975/...       0.266578   \n",
       "6  https://assets.coingecko.com/coins/images/5/la...       0.062523   \n",
       "7  https://assets.coingecko.com/coins/images/4128...      21.230000   \n",
       "8  https://assets.coingecko.com/coins/images/1217...       4.450000   \n",
       "\n",
       "     market_cap  market_cap_rank  fully_diluted_valuation  total_volume  \\\n",
       "0  507459580333                1             547506612577   10968447362   \n",
       "1  201121701368                2             201121701368    5659928165   \n",
       "2   32188872956                4              41842816105     516538119   \n",
       "3   27701121816                5              52422676620    1194260541   \n",
       "4   25929584603                6              25929649542    4027395027   \n",
       "5    9328064618                8              11977818756     164167124   \n",
       "6    8793965161                9               8793963286     281339394   \n",
       "7    8653034581               10              11790818362     265995795   \n",
       "8    5629131567               12               5989009135      97502440   \n",
       "\n",
       "       high_24h  ...  total_supply    max_supply           ath  \\\n",
       "0  26225.000000  ...  2.100000e+07  2.100000e+07  69045.000000   \n",
       "1   1689.260000  ...  1.202152e+08           NaN   4878.260000   \n",
       "2    217.600000  ...  1.538562e+08  2.000000e+08    686.310000   \n",
       "3      0.543888  ...  9.998850e+10  1.000000e+11      3.400000   \n",
       "4      1.002000  ...  2.591301e+10           NaN      1.170000   \n",
       "5      0.272455  ...  4.500000e+10  4.500000e+10      3.090000   \n",
       "6      0.064091  ...  1.406818e+11           NaN      0.731578   \n",
       "7     21.910000  ...  5.554647e+08           NaN    259.960000   \n",
       "8      4.530000  ...  1.347139e+09           NaN     54.980000   \n",
       "\n",
       "   ath_change_percentage                  ath_date        atl  \\\n",
       "0              -62.18466  2021-11-10T14:24:11.849Z  67.810000   \n",
       "1              -65.65508  2021-11-10T14:24:19.604Z   0.432979   \n",
       "2              -69.40276  2021-05-10T07:24:17.097Z   0.039818   \n",
       "3              -84.53464  2018-01-07T00:00:00.000Z   0.002686   \n",
       "4              -14.72518  2019-05-08T00:40:28.300Z   0.877647   \n",
       "5              -91.36035  2021-09-02T06:00:10.474Z   0.019253   \n",
       "6              -91.42883  2021-05-08T05:08:23.458Z   0.000087   \n",
       "7              -91.81049  2021-11-06T21:54:35.825Z   0.500801   \n",
       "8              -91.88961  2021-11-04T14:10:09.301Z   2.700000   \n",
       "\n",
       "   atl_change_percentage                  atl_date  \\\n",
       "0            38404.49674  2013-07-06T00:00:00.000Z   \n",
       "1           386855.30552  2015-10-20T00:00:00.000Z   \n",
       "2           527280.84394  2017-10-19T00:00:00.000Z   \n",
       "3            19465.97053  2014-05-22T00:00:00.000Z   \n",
       "4               13.94370  2023-03-11T08:02:13.981Z   \n",
       "5             1285.24853  2020-03-13T02:22:55.044Z   \n",
       "6            72054.27570  2015-05-06T00:00:00.000Z   \n",
       "7             4151.06472  2020-05-11T19:35:23.449Z   \n",
       "8               65.31006  2020-08-20T05:48:11.359Z   \n",
       "\n",
       "                                                 roi              last_updated  \n",
       "0                                               None  2023-08-21T15:17:12.118Z  \n",
       "1  {'times': 84.71348525190749, 'currency': 'btc'...  2023-08-21T15:17:15.933Z  \n",
       "2                                               None  2023-08-21T15:17:18.511Z  \n",
       "3                                               None  2023-08-21T15:17:10.766Z  \n",
       "4                                               None  2023-08-21T15:17:15.779Z  \n",
       "5                                               None  2023-08-21T15:17:16.031Z  \n",
       "6                                               None  2023-08-21T15:17:12.177Z  \n",
       "7                                               None  2023-08-21T15:17:15.396Z  \n",
       "8                                               None  2023-08-21T15:17:14.036Z  \n",
       "\n",
       "[9 rows x 26 columns]>"
      ]
     },
     "execution_count": 186,
     "metadata": {},
     "output_type": "execute_result"
    }
   ],
   "source": [
    "CoinsMktAnalysis.head"
   ]
  },
  {
   "cell_type": "code",
   "execution_count": 187,
   "metadata": {},
   "outputs": [
    {
     "data": {
      "text/html": [
       "<div>\n",
       "<style scoped>\n",
       "    .dataframe tbody tr th:only-of-type {\n",
       "        vertical-align: middle;\n",
       "    }\n",
       "\n",
       "    .dataframe tbody tr th {\n",
       "        vertical-align: top;\n",
       "    }\n",
       "\n",
       "    .dataframe thead th {\n",
       "        text-align: right;\n",
       "    }\n",
       "</style>\n",
       "<table border=\"1\" class=\"dataframe\">\n",
       "  <thead>\n",
       "    <tr style=\"text-align: right;\">\n",
       "      <th></th>\n",
       "      <th>current_price</th>\n",
       "      <th>market_cap</th>\n",
       "      <th>market_cap_rank</th>\n",
       "      <th>fully_diluted_valuation</th>\n",
       "      <th>total_volume</th>\n",
       "      <th>high_24h</th>\n",
       "      <th>low_24h</th>\n",
       "      <th>price_change_24h</th>\n",
       "      <th>price_change_percentage_24h</th>\n",
       "      <th>market_cap_change_24h</th>\n",
       "      <th>market_cap_change_percentage_24h</th>\n",
       "      <th>circulating_supply</th>\n",
       "      <th>total_supply</th>\n",
       "      <th>max_supply</th>\n",
       "      <th>ath</th>\n",
       "      <th>ath_change_percentage</th>\n",
       "      <th>atl</th>\n",
       "      <th>atl_change_percentage</th>\n",
       "    </tr>\n",
       "  </thead>\n",
       "  <tbody>\n",
       "    <tr>\n",
       "      <th>count</th>\n",
       "      <td>9.000000</td>\n",
       "      <td>9.000000e+00</td>\n",
       "      <td>9.000000</td>\n",
       "      <td>9.000000e+00</td>\n",
       "      <td>9.000000e+00</td>\n",
       "      <td>9.000000</td>\n",
       "      <td>9.000000</td>\n",
       "      <td>9.000000</td>\n",
       "      <td>9.000000</td>\n",
       "      <td>9.000000e+00</td>\n",
       "      <td>9.000000</td>\n",
       "      <td>9.000000e+00</td>\n",
       "      <td>9.000000e+00</td>\n",
       "      <td>4.000000e+00</td>\n",
       "      <td>9.000000</td>\n",
       "      <td>9.000000</td>\n",
       "      <td>9.000000</td>\n",
       "      <td>9.000000</td>\n",
       "    </tr>\n",
       "    <tr>\n",
       "      <th>mean</th>\n",
       "      <td>3109.978402</td>\n",
       "      <td>9.186723e+10</td>\n",
       "      <td>6.333333</td>\n",
       "      <td>1.008195e+11</td>\n",
       "      <td>2.575064e+09</td>\n",
       "      <td>3128.909159</td>\n",
       "      <td>3093.990433</td>\n",
       "      <td>-2.782635</td>\n",
       "      <td>-1.276864</td>\n",
       "      <td>-5.063521e+07</td>\n",
       "      <td>-1.102437</td>\n",
       "      <td>2.849434e+10</td>\n",
       "      <td>3.486456e+10</td>\n",
       "      <td>3.630525e+10</td>\n",
       "      <td>8325.877953</td>\n",
       "      <td>-73.665733</td>\n",
       "      <td>8.042586</td>\n",
       "      <td>116619.606604</td>\n",
       "    </tr>\n",
       "    <tr>\n",
       "      <th>std</th>\n",
       "      <td>8631.412908</td>\n",
       "      <td>1.676140e+11</td>\n",
       "      <td>3.708099</td>\n",
       "      <td>1.782903e+11</td>\n",
       "      <td>3.720927e+09</td>\n",
       "      <td>8678.575800</td>\n",
       "      <td>8586.008804</td>\n",
       "      <td>6.261289</td>\n",
       "      <td>1.246227</td>\n",
       "      <td>5.965970e+08</td>\n",
       "      <td>1.224182</td>\n",
       "      <td>4.633808e+10</td>\n",
       "      <td>5.189880e+10</td>\n",
       "      <td>4.744385e+10</td>\n",
       "      <td>22824.517790</td>\n",
       "      <td>25.239477</td>\n",
       "      <td>22.429188</td>\n",
       "      <td>197593.477145</td>\n",
       "    </tr>\n",
       "    <tr>\n",
       "      <th>min</th>\n",
       "      <td>0.062523</td>\n",
       "      <td>5.629132e+09</td>\n",
       "      <td>1.000000</td>\n",
       "      <td>5.989009e+09</td>\n",
       "      <td>9.750244e+07</td>\n",
       "      <td>0.064091</td>\n",
       "      <td>0.062245</td>\n",
       "      <td>-18.410626</td>\n",
       "      <td>-3.061240</td>\n",
       "      <td>-9.983612e+08</td>\n",
       "      <td>-3.008270</td>\n",
       "      <td>1.946397e+07</td>\n",
       "      <td>2.100000e+07</td>\n",
       "      <td>2.100000e+07</td>\n",
       "      <td>0.731578</td>\n",
       "      <td>-91.889610</td>\n",
       "      <td>0.000087</td>\n",
       "      <td>13.943700</td>\n",
       "    </tr>\n",
       "    <tr>\n",
       "      <th>25%</th>\n",
       "      <td>0.524521</td>\n",
       "      <td>8.793965e+09</td>\n",
       "      <td>4.000000</td>\n",
       "      <td>1.179082e+10</td>\n",
       "      <td>2.659958e+08</td>\n",
       "      <td>0.543888</td>\n",
       "      <td>0.518541</td>\n",
       "      <td>-0.545610</td>\n",
       "      <td>-2.478800</td>\n",
       "      <td>-2.021600e+08</td>\n",
       "      <td>-2.259540</td>\n",
       "      <td>1.538562e+08</td>\n",
       "      <td>1.538562e+08</td>\n",
       "      <td>1.552500e+08</td>\n",
       "      <td>3.090000</td>\n",
       "      <td>-91.428830</td>\n",
       "      <td>0.019253</td>\n",
       "      <td>1285.248530</td>\n",
       "    </tr>\n",
       "    <tr>\n",
       "      <th>50%</th>\n",
       "      <td>4.450000</td>\n",
       "      <td>2.592958e+10</td>\n",
       "      <td>6.000000</td>\n",
       "      <td>2.592965e+10</td>\n",
       "      <td>5.165381e+08</td>\n",
       "      <td>4.530000</td>\n",
       "      <td>4.450000</td>\n",
       "      <td>-0.013332</td>\n",
       "      <td>-0.897930</td>\n",
       "      <td>-4.667143e+07</td>\n",
       "      <td>-0.627340</td>\n",
       "      <td>1.266190e+09</td>\n",
       "      <td>1.347139e+09</td>\n",
       "      <td>2.260000e+10</td>\n",
       "      <td>54.980000</td>\n",
       "      <td>-84.534640</td>\n",
       "      <td>0.432979</td>\n",
       "      <td>19465.970530</td>\n",
       "    </tr>\n",
       "    <tr>\n",
       "      <th>75%</th>\n",
       "      <td>209.410000</td>\n",
       "      <td>3.218887e+10</td>\n",
       "      <td>9.000000</td>\n",
       "      <td>5.242268e+10</td>\n",
       "      <td>4.027395e+09</td>\n",
       "      <td>217.600000</td>\n",
       "      <td>208.360000</td>\n",
       "      <td>-0.001256</td>\n",
       "      <td>-0.070540</td>\n",
       "      <td>-3.001507e+07</td>\n",
       "      <td>-0.115620</td>\n",
       "      <td>3.504502e+10</td>\n",
       "      <td>4.500000e+10</td>\n",
       "      <td>5.875000e+10</td>\n",
       "      <td>686.310000</td>\n",
       "      <td>-65.655080</td>\n",
       "      <td>0.877647</td>\n",
       "      <td>72054.275700</td>\n",
       "    </tr>\n",
       "    <tr>\n",
       "      <th>max</th>\n",
       "      <td>26081.000000</td>\n",
       "      <td>5.074596e+11</td>\n",
       "      <td>12.000000</td>\n",
       "      <td>5.475066e+11</td>\n",
       "      <td>1.096845e+10</td>\n",
       "      <td>26225.000000</td>\n",
       "      <td>25944.000000</td>\n",
       "      <td>0.580222</td>\n",
       "      <td>0.212410</td>\n",
       "      <td>9.679364e+08</td>\n",
       "      <td>0.338200</td>\n",
       "      <td>1.406819e+11</td>\n",
       "      <td>1.406818e+11</td>\n",
       "      <td>1.000000e+11</td>\n",
       "      <td>69045.000000</td>\n",
       "      <td>-14.725180</td>\n",
       "      <td>67.810000</td>\n",
       "      <td>527280.843940</td>\n",
       "    </tr>\n",
       "  </tbody>\n",
       "</table>\n",
       "</div>"
      ],
      "text/plain": [
       "       current_price    market_cap  market_cap_rank  fully_diluted_valuation  \\\n",
       "count       9.000000  9.000000e+00         9.000000             9.000000e+00   \n",
       "mean     3109.978402  9.186723e+10         6.333333             1.008195e+11   \n",
       "std      8631.412908  1.676140e+11         3.708099             1.782903e+11   \n",
       "min         0.062523  5.629132e+09         1.000000             5.989009e+09   \n",
       "25%         0.524521  8.793965e+09         4.000000             1.179082e+10   \n",
       "50%         4.450000  2.592958e+10         6.000000             2.592965e+10   \n",
       "75%       209.410000  3.218887e+10         9.000000             5.242268e+10   \n",
       "max     26081.000000  5.074596e+11        12.000000             5.475066e+11   \n",
       "\n",
       "       total_volume      high_24h       low_24h  price_change_24h  \\\n",
       "count  9.000000e+00      9.000000      9.000000          9.000000   \n",
       "mean   2.575064e+09   3128.909159   3093.990433         -2.782635   \n",
       "std    3.720927e+09   8678.575800   8586.008804          6.261289   \n",
       "min    9.750244e+07      0.064091      0.062245        -18.410626   \n",
       "25%    2.659958e+08      0.543888      0.518541         -0.545610   \n",
       "50%    5.165381e+08      4.530000      4.450000         -0.013332   \n",
       "75%    4.027395e+09    217.600000    208.360000         -0.001256   \n",
       "max    1.096845e+10  26225.000000  25944.000000          0.580222   \n",
       "\n",
       "       price_change_percentage_24h  market_cap_change_24h  \\\n",
       "count                     9.000000           9.000000e+00   \n",
       "mean                     -1.276864          -5.063521e+07   \n",
       "std                       1.246227           5.965970e+08   \n",
       "min                      -3.061240          -9.983612e+08   \n",
       "25%                      -2.478800          -2.021600e+08   \n",
       "50%                      -0.897930          -4.667143e+07   \n",
       "75%                      -0.070540          -3.001507e+07   \n",
       "max                       0.212410           9.679364e+08   \n",
       "\n",
       "       market_cap_change_percentage_24h  circulating_supply  total_supply  \\\n",
       "count                          9.000000        9.000000e+00  9.000000e+00   \n",
       "mean                          -1.102437        2.849434e+10  3.486456e+10   \n",
       "std                            1.224182        4.633808e+10  5.189880e+10   \n",
       "min                           -3.008270        1.946397e+07  2.100000e+07   \n",
       "25%                           -2.259540        1.538562e+08  1.538562e+08   \n",
       "50%                           -0.627340        1.266190e+09  1.347139e+09   \n",
       "75%                           -0.115620        3.504502e+10  4.500000e+10   \n",
       "max                            0.338200        1.406819e+11  1.406818e+11   \n",
       "\n",
       "         max_supply           ath  ath_change_percentage        atl  \\\n",
       "count  4.000000e+00      9.000000               9.000000   9.000000   \n",
       "mean   3.630525e+10   8325.877953             -73.665733   8.042586   \n",
       "std    4.744385e+10  22824.517790              25.239477  22.429188   \n",
       "min    2.100000e+07      0.731578             -91.889610   0.000087   \n",
       "25%    1.552500e+08      3.090000             -91.428830   0.019253   \n",
       "50%    2.260000e+10     54.980000             -84.534640   0.432979   \n",
       "75%    5.875000e+10    686.310000             -65.655080   0.877647   \n",
       "max    1.000000e+11  69045.000000             -14.725180  67.810000   \n",
       "\n",
       "       atl_change_percentage  \n",
       "count               9.000000  \n",
       "mean           116619.606604  \n",
       "std            197593.477145  \n",
       "min                13.943700  \n",
       "25%              1285.248530  \n",
       "50%             19465.970530  \n",
       "75%             72054.275700  \n",
       "max            527280.843940  "
      ]
     },
     "execution_count": 187,
     "metadata": {},
     "output_type": "execute_result"
    }
   ],
   "source": [
    "CoinsMktAnalysis.describe()"
   ]
  },
  {
   "cell_type": "code",
   "execution_count": 188,
   "metadata": {},
   "outputs": [
    {
     "name": "stdout",
     "output_type": "stream",
     "text": [
      "<class 'pandas.core.frame.DataFrame'>\n",
      "RangeIndex: 9 entries, 0 to 8\n",
      "Data columns (total 26 columns):\n",
      " #   Column                            Non-Null Count  Dtype  \n",
      "---  ------                            --------------  -----  \n",
      " 0   id                                9 non-null      object \n",
      " 1   symbol                            9 non-null      object \n",
      " 2   name                              9 non-null      object \n",
      " 3   image                             9 non-null      object \n",
      " 4   current_price                     9 non-null      float64\n",
      " 5   market_cap                        9 non-null      int64  \n",
      " 6   market_cap_rank                   9 non-null      int64  \n",
      " 7   fully_diluted_valuation           9 non-null      int64  \n",
      " 8   total_volume                      9 non-null      int64  \n",
      " 9   high_24h                          9 non-null      float64\n",
      " 10  low_24h                           9 non-null      float64\n",
      " 11  price_change_24h                  9 non-null      float64\n",
      " 12  price_change_percentage_24h       9 non-null      float64\n",
      " 13  market_cap_change_24h             9 non-null      float64\n",
      " 14  market_cap_change_percentage_24h  9 non-null      float64\n",
      " 15  circulating_supply                9 non-null      float64\n",
      " 16  total_supply                      9 non-null      float64\n",
      " 17  max_supply                        4 non-null      float64\n",
      " 18  ath                               9 non-null      float64\n",
      " 19  ath_change_percentage             9 non-null      float64\n",
      " 20  ath_date                          9 non-null      object \n",
      " 21  atl                               9 non-null      float64\n",
      " 22  atl_change_percentage             9 non-null      float64\n",
      " 23  atl_date                          9 non-null      object \n",
      " 24  roi                               1 non-null      object \n",
      " 25  last_updated                      9 non-null      object \n",
      "dtypes: float64(14), int64(4), object(8)\n",
      "memory usage: 2.0+ KB\n"
     ]
    }
   ],
   "source": [
    "CoinsMktAnalysis.info()"
   ]
  },
  {
   "cell_type": "code",
   "execution_count": 189,
   "metadata": {},
   "outputs": [
    {
     "data": {
      "text/plain": [
       "Index(['id', 'symbol', 'name', 'image', 'current_price', 'market_cap',\n",
       "       'market_cap_rank', 'fully_diluted_valuation', 'total_volume',\n",
       "       'high_24h', 'low_24h', 'price_change_24h',\n",
       "       'price_change_percentage_24h', 'market_cap_change_24h',\n",
       "       'market_cap_change_percentage_24h', 'circulating_supply',\n",
       "       'total_supply', 'max_supply', 'ath', 'ath_change_percentage',\n",
       "       'ath_date', 'atl', 'atl_change_percentage', 'atl_date', 'roi',\n",
       "       'last_updated'],\n",
       "      dtype='object')"
      ]
     },
     "execution_count": 189,
     "metadata": {},
     "output_type": "execute_result"
    }
   ],
   "source": [
    "CoinsMktAnalysis.columns"
   ]
  },
  {
   "cell_type": "code",
   "execution_count": 190,
   "metadata": {},
   "outputs": [
    {
     "data": {
      "application/vnd.plotly.v1+json": {
       "config": {
        "plotlyServerURL": "https://plot.ly"
       },
       "data": [
        {
         "alignmentgroup": "True",
         "hovertemplate": "<b>%{hovertext}</b><br><br>market_cap_rank=%{x}<br>market_cap=%{y}<extra></extra>",
         "hovertext": [
          "Bitcoin",
          "Ethereum",
          "BNB",
          "XRP",
          "USD Coin",
          "Cardano",
          "Dogecoin",
          "Solana",
          "Polkadot"
         ],
         "legendgroup": "",
         "marker": {
          "color": "#636efa",
          "pattern": {
           "shape": ""
          }
         },
         "name": "",
         "offsetgroup": "",
         "orientation": "v",
         "showlegend": false,
         "textposition": "auto",
         "type": "bar",
         "x": [
          1,
          2,
          4,
          5,
          6,
          8,
          9,
          10,
          12
         ],
         "xaxis": "x",
         "y": [
          507459580333,
          201121701368,
          32188872956,
          27701121816,
          25929584603,
          9328064618,
          8793965161,
          8653034581,
          5629131567
         ],
         "yaxis": "y"
        }
       ],
       "layout": {
        "barmode": "relative",
        "legend": {
         "tracegroupgap": 0
        },
        "margin": {
         "t": 60
        },
        "template": {
         "data": {
          "bar": [
           {
            "error_x": {
             "color": "#2a3f5f"
            },
            "error_y": {
             "color": "#2a3f5f"
            },
            "marker": {
             "line": {
              "color": "#E5ECF6",
              "width": 0.5
             },
             "pattern": {
              "fillmode": "overlay",
              "size": 10,
              "solidity": 0.2
             }
            },
            "type": "bar"
           }
          ],
          "barpolar": [
           {
            "marker": {
             "line": {
              "color": "#E5ECF6",
              "width": 0.5
             },
             "pattern": {
              "fillmode": "overlay",
              "size": 10,
              "solidity": 0.2
             }
            },
            "type": "barpolar"
           }
          ],
          "carpet": [
           {
            "aaxis": {
             "endlinecolor": "#2a3f5f",
             "gridcolor": "white",
             "linecolor": "white",
             "minorgridcolor": "white",
             "startlinecolor": "#2a3f5f"
            },
            "baxis": {
             "endlinecolor": "#2a3f5f",
             "gridcolor": "white",
             "linecolor": "white",
             "minorgridcolor": "white",
             "startlinecolor": "#2a3f5f"
            },
            "type": "carpet"
           }
          ],
          "choropleth": [
           {
            "colorbar": {
             "outlinewidth": 0,
             "ticks": ""
            },
            "type": "choropleth"
           }
          ],
          "contour": [
           {
            "colorbar": {
             "outlinewidth": 0,
             "ticks": ""
            },
            "colorscale": [
             [
              0,
              "#0d0887"
             ],
             [
              0.1111111111111111,
              "#46039f"
             ],
             [
              0.2222222222222222,
              "#7201a8"
             ],
             [
              0.3333333333333333,
              "#9c179e"
             ],
             [
              0.4444444444444444,
              "#bd3786"
             ],
             [
              0.5555555555555556,
              "#d8576b"
             ],
             [
              0.6666666666666666,
              "#ed7953"
             ],
             [
              0.7777777777777778,
              "#fb9f3a"
             ],
             [
              0.8888888888888888,
              "#fdca26"
             ],
             [
              1,
              "#f0f921"
             ]
            ],
            "type": "contour"
           }
          ],
          "contourcarpet": [
           {
            "colorbar": {
             "outlinewidth": 0,
             "ticks": ""
            },
            "type": "contourcarpet"
           }
          ],
          "heatmap": [
           {
            "colorbar": {
             "outlinewidth": 0,
             "ticks": ""
            },
            "colorscale": [
             [
              0,
              "#0d0887"
             ],
             [
              0.1111111111111111,
              "#46039f"
             ],
             [
              0.2222222222222222,
              "#7201a8"
             ],
             [
              0.3333333333333333,
              "#9c179e"
             ],
             [
              0.4444444444444444,
              "#bd3786"
             ],
             [
              0.5555555555555556,
              "#d8576b"
             ],
             [
              0.6666666666666666,
              "#ed7953"
             ],
             [
              0.7777777777777778,
              "#fb9f3a"
             ],
             [
              0.8888888888888888,
              "#fdca26"
             ],
             [
              1,
              "#f0f921"
             ]
            ],
            "type": "heatmap"
           }
          ],
          "heatmapgl": [
           {
            "colorbar": {
             "outlinewidth": 0,
             "ticks": ""
            },
            "colorscale": [
             [
              0,
              "#0d0887"
             ],
             [
              0.1111111111111111,
              "#46039f"
             ],
             [
              0.2222222222222222,
              "#7201a8"
             ],
             [
              0.3333333333333333,
              "#9c179e"
             ],
             [
              0.4444444444444444,
              "#bd3786"
             ],
             [
              0.5555555555555556,
              "#d8576b"
             ],
             [
              0.6666666666666666,
              "#ed7953"
             ],
             [
              0.7777777777777778,
              "#fb9f3a"
             ],
             [
              0.8888888888888888,
              "#fdca26"
             ],
             [
              1,
              "#f0f921"
             ]
            ],
            "type": "heatmapgl"
           }
          ],
          "histogram": [
           {
            "marker": {
             "pattern": {
              "fillmode": "overlay",
              "size": 10,
              "solidity": 0.2
             }
            },
            "type": "histogram"
           }
          ],
          "histogram2d": [
           {
            "colorbar": {
             "outlinewidth": 0,
             "ticks": ""
            },
            "colorscale": [
             [
              0,
              "#0d0887"
             ],
             [
              0.1111111111111111,
              "#46039f"
             ],
             [
              0.2222222222222222,
              "#7201a8"
             ],
             [
              0.3333333333333333,
              "#9c179e"
             ],
             [
              0.4444444444444444,
              "#bd3786"
             ],
             [
              0.5555555555555556,
              "#d8576b"
             ],
             [
              0.6666666666666666,
              "#ed7953"
             ],
             [
              0.7777777777777778,
              "#fb9f3a"
             ],
             [
              0.8888888888888888,
              "#fdca26"
             ],
             [
              1,
              "#f0f921"
             ]
            ],
            "type": "histogram2d"
           }
          ],
          "histogram2dcontour": [
           {
            "colorbar": {
             "outlinewidth": 0,
             "ticks": ""
            },
            "colorscale": [
             [
              0,
              "#0d0887"
             ],
             [
              0.1111111111111111,
              "#46039f"
             ],
             [
              0.2222222222222222,
              "#7201a8"
             ],
             [
              0.3333333333333333,
              "#9c179e"
             ],
             [
              0.4444444444444444,
              "#bd3786"
             ],
             [
              0.5555555555555556,
              "#d8576b"
             ],
             [
              0.6666666666666666,
              "#ed7953"
             ],
             [
              0.7777777777777778,
              "#fb9f3a"
             ],
             [
              0.8888888888888888,
              "#fdca26"
             ],
             [
              1,
              "#f0f921"
             ]
            ],
            "type": "histogram2dcontour"
           }
          ],
          "mesh3d": [
           {
            "colorbar": {
             "outlinewidth": 0,
             "ticks": ""
            },
            "type": "mesh3d"
           }
          ],
          "parcoords": [
           {
            "line": {
             "colorbar": {
              "outlinewidth": 0,
              "ticks": ""
             }
            },
            "type": "parcoords"
           }
          ],
          "pie": [
           {
            "automargin": true,
            "type": "pie"
           }
          ],
          "scatter": [
           {
            "fillpattern": {
             "fillmode": "overlay",
             "size": 10,
             "solidity": 0.2
            },
            "type": "scatter"
           }
          ],
          "scatter3d": [
           {
            "line": {
             "colorbar": {
              "outlinewidth": 0,
              "ticks": ""
             }
            },
            "marker": {
             "colorbar": {
              "outlinewidth": 0,
              "ticks": ""
             }
            },
            "type": "scatter3d"
           }
          ],
          "scattercarpet": [
           {
            "marker": {
             "colorbar": {
              "outlinewidth": 0,
              "ticks": ""
             }
            },
            "type": "scattercarpet"
           }
          ],
          "scattergeo": [
           {
            "marker": {
             "colorbar": {
              "outlinewidth": 0,
              "ticks": ""
             }
            },
            "type": "scattergeo"
           }
          ],
          "scattergl": [
           {
            "marker": {
             "colorbar": {
              "outlinewidth": 0,
              "ticks": ""
             }
            },
            "type": "scattergl"
           }
          ],
          "scattermapbox": [
           {
            "marker": {
             "colorbar": {
              "outlinewidth": 0,
              "ticks": ""
             }
            },
            "type": "scattermapbox"
           }
          ],
          "scatterpolar": [
           {
            "marker": {
             "colorbar": {
              "outlinewidth": 0,
              "ticks": ""
             }
            },
            "type": "scatterpolar"
           }
          ],
          "scatterpolargl": [
           {
            "marker": {
             "colorbar": {
              "outlinewidth": 0,
              "ticks": ""
             }
            },
            "type": "scatterpolargl"
           }
          ],
          "scatterternary": [
           {
            "marker": {
             "colorbar": {
              "outlinewidth": 0,
              "ticks": ""
             }
            },
            "type": "scatterternary"
           }
          ],
          "surface": [
           {
            "colorbar": {
             "outlinewidth": 0,
             "ticks": ""
            },
            "colorscale": [
             [
              0,
              "#0d0887"
             ],
             [
              0.1111111111111111,
              "#46039f"
             ],
             [
              0.2222222222222222,
              "#7201a8"
             ],
             [
              0.3333333333333333,
              "#9c179e"
             ],
             [
              0.4444444444444444,
              "#bd3786"
             ],
             [
              0.5555555555555556,
              "#d8576b"
             ],
             [
              0.6666666666666666,
              "#ed7953"
             ],
             [
              0.7777777777777778,
              "#fb9f3a"
             ],
             [
              0.8888888888888888,
              "#fdca26"
             ],
             [
              1,
              "#f0f921"
             ]
            ],
            "type": "surface"
           }
          ],
          "table": [
           {
            "cells": {
             "fill": {
              "color": "#EBF0F8"
             },
             "line": {
              "color": "white"
             }
            },
            "header": {
             "fill": {
              "color": "#C8D4E3"
             },
             "line": {
              "color": "white"
             }
            },
            "type": "table"
           }
          ]
         },
         "layout": {
          "annotationdefaults": {
           "arrowcolor": "#2a3f5f",
           "arrowhead": 0,
           "arrowwidth": 1
          },
          "autotypenumbers": "strict",
          "coloraxis": {
           "colorbar": {
            "outlinewidth": 0,
            "ticks": ""
           }
          },
          "colorscale": {
           "diverging": [
            [
             0,
             "#8e0152"
            ],
            [
             0.1,
             "#c51b7d"
            ],
            [
             0.2,
             "#de77ae"
            ],
            [
             0.3,
             "#f1b6da"
            ],
            [
             0.4,
             "#fde0ef"
            ],
            [
             0.5,
             "#f7f7f7"
            ],
            [
             0.6,
             "#e6f5d0"
            ],
            [
             0.7,
             "#b8e186"
            ],
            [
             0.8,
             "#7fbc41"
            ],
            [
             0.9,
             "#4d9221"
            ],
            [
             1,
             "#276419"
            ]
           ],
           "sequential": [
            [
             0,
             "#0d0887"
            ],
            [
             0.1111111111111111,
             "#46039f"
            ],
            [
             0.2222222222222222,
             "#7201a8"
            ],
            [
             0.3333333333333333,
             "#9c179e"
            ],
            [
             0.4444444444444444,
             "#bd3786"
            ],
            [
             0.5555555555555556,
             "#d8576b"
            ],
            [
             0.6666666666666666,
             "#ed7953"
            ],
            [
             0.7777777777777778,
             "#fb9f3a"
            ],
            [
             0.8888888888888888,
             "#fdca26"
            ],
            [
             1,
             "#f0f921"
            ]
           ],
           "sequentialminus": [
            [
             0,
             "#0d0887"
            ],
            [
             0.1111111111111111,
             "#46039f"
            ],
            [
             0.2222222222222222,
             "#7201a8"
            ],
            [
             0.3333333333333333,
             "#9c179e"
            ],
            [
             0.4444444444444444,
             "#bd3786"
            ],
            [
             0.5555555555555556,
             "#d8576b"
            ],
            [
             0.6666666666666666,
             "#ed7953"
            ],
            [
             0.7777777777777778,
             "#fb9f3a"
            ],
            [
             0.8888888888888888,
             "#fdca26"
            ],
            [
             1,
             "#f0f921"
            ]
           ]
          },
          "colorway": [
           "#636efa",
           "#EF553B",
           "#00cc96",
           "#ab63fa",
           "#FFA15A",
           "#19d3f3",
           "#FF6692",
           "#B6E880",
           "#FF97FF",
           "#FECB52"
          ],
          "font": {
           "color": "#2a3f5f"
          },
          "geo": {
           "bgcolor": "white",
           "lakecolor": "white",
           "landcolor": "#E5ECF6",
           "showlakes": true,
           "showland": true,
           "subunitcolor": "white"
          },
          "hoverlabel": {
           "align": "left"
          },
          "hovermode": "closest",
          "mapbox": {
           "style": "light"
          },
          "paper_bgcolor": "white",
          "plot_bgcolor": "#E5ECF6",
          "polar": {
           "angularaxis": {
            "gridcolor": "white",
            "linecolor": "white",
            "ticks": ""
           },
           "bgcolor": "#E5ECF6",
           "radialaxis": {
            "gridcolor": "white",
            "linecolor": "white",
            "ticks": ""
           }
          },
          "scene": {
           "xaxis": {
            "backgroundcolor": "#E5ECF6",
            "gridcolor": "white",
            "gridwidth": 2,
            "linecolor": "white",
            "showbackground": true,
            "ticks": "",
            "zerolinecolor": "white"
           },
           "yaxis": {
            "backgroundcolor": "#E5ECF6",
            "gridcolor": "white",
            "gridwidth": 2,
            "linecolor": "white",
            "showbackground": true,
            "ticks": "",
            "zerolinecolor": "white"
           },
           "zaxis": {
            "backgroundcolor": "#E5ECF6",
            "gridcolor": "white",
            "gridwidth": 2,
            "linecolor": "white",
            "showbackground": true,
            "ticks": "",
            "zerolinecolor": "white"
           }
          },
          "shapedefaults": {
           "line": {
            "color": "#2a3f5f"
           }
          },
          "ternary": {
           "aaxis": {
            "gridcolor": "white",
            "linecolor": "white",
            "ticks": ""
           },
           "baxis": {
            "gridcolor": "white",
            "linecolor": "white",
            "ticks": ""
           },
           "bgcolor": "#E5ECF6",
           "caxis": {
            "gridcolor": "white",
            "linecolor": "white",
            "ticks": ""
           }
          },
          "title": {
           "x": 0.05
          },
          "xaxis": {
           "automargin": true,
           "gridcolor": "white",
           "linecolor": "white",
           "ticks": "",
           "title": {
            "standoff": 15
           },
           "zerolinecolor": "white",
           "zerolinewidth": 2
          },
          "yaxis": {
           "automargin": true,
           "gridcolor": "white",
           "linecolor": "white",
           "ticks": "",
           "title": {
            "standoff": 15
           },
           "zerolinecolor": "white",
           "zerolinewidth": 2
          }
         }
        },
        "title": {
         "text": "Ranking vs. Capitalización de Mercado de Criptomonedas"
        },
        "xaxis": {
         "anchor": "y",
         "domain": [
          0,
          1
         ],
         "title": {
          "text": "market_cap_rank"
         }
        },
        "yaxis": {
         "anchor": "x",
         "domain": [
          0,
          1
         ],
         "title": {
          "text": "market_cap"
         },
         "type": "log"
        }
       }
      }
     },
     "metadata": {},
     "output_type": "display_data"
    }
   ],
   "source": [
    "#Visualización de los datos del dataframe en donde se identifica la correlación de los datos de las columnas Ranking y Capitalización de Mercado\n",
    "\n",
    "fig = px.bar(CoinsMktAnalysis, x=\"market_cap_rank\", y=\"market_cap\", hover_name=\"name\", log_y=True)\n",
    "fig.update_layout(title=\"Ranking vs. Capitalización de Mercado de Criptomonedas\")\n",
    "fig.show()"
   ]
  },
  {
   "attachments": {},
   "cell_type": "markdown",
   "metadata": {},
   "source": [
    "### Análisis del Market_cap-rank y el market_cap\n",
    "\n",
    "\n",
    "Podemos interpretar a partir de los datos presentados que se tiene una relación directa entre la capitalzación de mercado y el Rangking en el mercado de las criptomonedas, es decir en cuanto mayor sea capitalización de mercado tenga una criptomoneda el ranking de la cripto es más alto.\n",
    "Según los datos disponibles en la API CoinGecko las monedas que presentan esta relación en la capitalización son el bitcoin y el ethereum seguidos por el BNB Dentro de la canasta de monedas analizadas el Polkadot presenta una menor capitalización de mercado y por ende una posición en el ranking de mercado."
   ]
  },
  {
   "cell_type": "code",
   "execution_count": 191,
   "metadata": {},
   "outputs": [
    {
     "data": {
      "application/vnd.plotly.v1+json": {
       "config": {
        "plotlyServerURL": "https://plot.ly"
       },
       "data": [
        {
         "hovertemplate": "<b>%{hovertext}</b><br><br>Capitalización de Mercado (USD)=%{x}<br>Volumen de Negociación=%{y}<extra></extra>",
         "hovertext": [
          "Bitcoin",
          "Ethereum",
          "BNB",
          "XRP",
          "USD Coin",
          "Cardano",
          "Dogecoin",
          "Solana",
          "Polkadot"
         ],
         "legendgroup": "",
         "marker": {
          "color": "#636efa",
          "symbol": "circle"
         },
         "mode": "markers",
         "name": "",
         "orientation": "v",
         "showlegend": false,
         "type": "scatter",
         "x": [
          507459580333,
          201121701368,
          32188872956,
          27701121816,
          25929584603,
          9328064618,
          8793965161,
          8653034581,
          5629131567
         ],
         "xaxis": "x",
         "y": [
          10968447362,
          5659928165,
          516538119,
          1194260541,
          4027395027,
          164167124,
          281339394,
          265995795,
          97502440
         ],
         "yaxis": "y"
        }
       ],
       "layout": {
        "legend": {
         "tracegroupgap": 0
        },
        "template": {
         "data": {
          "bar": [
           {
            "error_x": {
             "color": "#2a3f5f"
            },
            "error_y": {
             "color": "#2a3f5f"
            },
            "marker": {
             "line": {
              "color": "#E5ECF6",
              "width": 0.5
             },
             "pattern": {
              "fillmode": "overlay",
              "size": 10,
              "solidity": 0.2
             }
            },
            "type": "bar"
           }
          ],
          "barpolar": [
           {
            "marker": {
             "line": {
              "color": "#E5ECF6",
              "width": 0.5
             },
             "pattern": {
              "fillmode": "overlay",
              "size": 10,
              "solidity": 0.2
             }
            },
            "type": "barpolar"
           }
          ],
          "carpet": [
           {
            "aaxis": {
             "endlinecolor": "#2a3f5f",
             "gridcolor": "white",
             "linecolor": "white",
             "minorgridcolor": "white",
             "startlinecolor": "#2a3f5f"
            },
            "baxis": {
             "endlinecolor": "#2a3f5f",
             "gridcolor": "white",
             "linecolor": "white",
             "minorgridcolor": "white",
             "startlinecolor": "#2a3f5f"
            },
            "type": "carpet"
           }
          ],
          "choropleth": [
           {
            "colorbar": {
             "outlinewidth": 0,
             "ticks": ""
            },
            "type": "choropleth"
           }
          ],
          "contour": [
           {
            "colorbar": {
             "outlinewidth": 0,
             "ticks": ""
            },
            "colorscale": [
             [
              0,
              "#0d0887"
             ],
             [
              0.1111111111111111,
              "#46039f"
             ],
             [
              0.2222222222222222,
              "#7201a8"
             ],
             [
              0.3333333333333333,
              "#9c179e"
             ],
             [
              0.4444444444444444,
              "#bd3786"
             ],
             [
              0.5555555555555556,
              "#d8576b"
             ],
             [
              0.6666666666666666,
              "#ed7953"
             ],
             [
              0.7777777777777778,
              "#fb9f3a"
             ],
             [
              0.8888888888888888,
              "#fdca26"
             ],
             [
              1,
              "#f0f921"
             ]
            ],
            "type": "contour"
           }
          ],
          "contourcarpet": [
           {
            "colorbar": {
             "outlinewidth": 0,
             "ticks": ""
            },
            "type": "contourcarpet"
           }
          ],
          "heatmap": [
           {
            "colorbar": {
             "outlinewidth": 0,
             "ticks": ""
            },
            "colorscale": [
             [
              0,
              "#0d0887"
             ],
             [
              0.1111111111111111,
              "#46039f"
             ],
             [
              0.2222222222222222,
              "#7201a8"
             ],
             [
              0.3333333333333333,
              "#9c179e"
             ],
             [
              0.4444444444444444,
              "#bd3786"
             ],
             [
              0.5555555555555556,
              "#d8576b"
             ],
             [
              0.6666666666666666,
              "#ed7953"
             ],
             [
              0.7777777777777778,
              "#fb9f3a"
             ],
             [
              0.8888888888888888,
              "#fdca26"
             ],
             [
              1,
              "#f0f921"
             ]
            ],
            "type": "heatmap"
           }
          ],
          "heatmapgl": [
           {
            "colorbar": {
             "outlinewidth": 0,
             "ticks": ""
            },
            "colorscale": [
             [
              0,
              "#0d0887"
             ],
             [
              0.1111111111111111,
              "#46039f"
             ],
             [
              0.2222222222222222,
              "#7201a8"
             ],
             [
              0.3333333333333333,
              "#9c179e"
             ],
             [
              0.4444444444444444,
              "#bd3786"
             ],
             [
              0.5555555555555556,
              "#d8576b"
             ],
             [
              0.6666666666666666,
              "#ed7953"
             ],
             [
              0.7777777777777778,
              "#fb9f3a"
             ],
             [
              0.8888888888888888,
              "#fdca26"
             ],
             [
              1,
              "#f0f921"
             ]
            ],
            "type": "heatmapgl"
           }
          ],
          "histogram": [
           {
            "marker": {
             "pattern": {
              "fillmode": "overlay",
              "size": 10,
              "solidity": 0.2
             }
            },
            "type": "histogram"
           }
          ],
          "histogram2d": [
           {
            "colorbar": {
             "outlinewidth": 0,
             "ticks": ""
            },
            "colorscale": [
             [
              0,
              "#0d0887"
             ],
             [
              0.1111111111111111,
              "#46039f"
             ],
             [
              0.2222222222222222,
              "#7201a8"
             ],
             [
              0.3333333333333333,
              "#9c179e"
             ],
             [
              0.4444444444444444,
              "#bd3786"
             ],
             [
              0.5555555555555556,
              "#d8576b"
             ],
             [
              0.6666666666666666,
              "#ed7953"
             ],
             [
              0.7777777777777778,
              "#fb9f3a"
             ],
             [
              0.8888888888888888,
              "#fdca26"
             ],
             [
              1,
              "#f0f921"
             ]
            ],
            "type": "histogram2d"
           }
          ],
          "histogram2dcontour": [
           {
            "colorbar": {
             "outlinewidth": 0,
             "ticks": ""
            },
            "colorscale": [
             [
              0,
              "#0d0887"
             ],
             [
              0.1111111111111111,
              "#46039f"
             ],
             [
              0.2222222222222222,
              "#7201a8"
             ],
             [
              0.3333333333333333,
              "#9c179e"
             ],
             [
              0.4444444444444444,
              "#bd3786"
             ],
             [
              0.5555555555555556,
              "#d8576b"
             ],
             [
              0.6666666666666666,
              "#ed7953"
             ],
             [
              0.7777777777777778,
              "#fb9f3a"
             ],
             [
              0.8888888888888888,
              "#fdca26"
             ],
             [
              1,
              "#f0f921"
             ]
            ],
            "type": "histogram2dcontour"
           }
          ],
          "mesh3d": [
           {
            "colorbar": {
             "outlinewidth": 0,
             "ticks": ""
            },
            "type": "mesh3d"
           }
          ],
          "parcoords": [
           {
            "line": {
             "colorbar": {
              "outlinewidth": 0,
              "ticks": ""
             }
            },
            "type": "parcoords"
           }
          ],
          "pie": [
           {
            "automargin": true,
            "type": "pie"
           }
          ],
          "scatter": [
           {
            "fillpattern": {
             "fillmode": "overlay",
             "size": 10,
             "solidity": 0.2
            },
            "type": "scatter"
           }
          ],
          "scatter3d": [
           {
            "line": {
             "colorbar": {
              "outlinewidth": 0,
              "ticks": ""
             }
            },
            "marker": {
             "colorbar": {
              "outlinewidth": 0,
              "ticks": ""
             }
            },
            "type": "scatter3d"
           }
          ],
          "scattercarpet": [
           {
            "marker": {
             "colorbar": {
              "outlinewidth": 0,
              "ticks": ""
             }
            },
            "type": "scattercarpet"
           }
          ],
          "scattergeo": [
           {
            "marker": {
             "colorbar": {
              "outlinewidth": 0,
              "ticks": ""
             }
            },
            "type": "scattergeo"
           }
          ],
          "scattergl": [
           {
            "marker": {
             "colorbar": {
              "outlinewidth": 0,
              "ticks": ""
             }
            },
            "type": "scattergl"
           }
          ],
          "scattermapbox": [
           {
            "marker": {
             "colorbar": {
              "outlinewidth": 0,
              "ticks": ""
             }
            },
            "type": "scattermapbox"
           }
          ],
          "scatterpolar": [
           {
            "marker": {
             "colorbar": {
              "outlinewidth": 0,
              "ticks": ""
             }
            },
            "type": "scatterpolar"
           }
          ],
          "scatterpolargl": [
           {
            "marker": {
             "colorbar": {
              "outlinewidth": 0,
              "ticks": ""
             }
            },
            "type": "scatterpolargl"
           }
          ],
          "scatterternary": [
           {
            "marker": {
             "colorbar": {
              "outlinewidth": 0,
              "ticks": ""
             }
            },
            "type": "scatterternary"
           }
          ],
          "surface": [
           {
            "colorbar": {
             "outlinewidth": 0,
             "ticks": ""
            },
            "colorscale": [
             [
              0,
              "#0d0887"
             ],
             [
              0.1111111111111111,
              "#46039f"
             ],
             [
              0.2222222222222222,
              "#7201a8"
             ],
             [
              0.3333333333333333,
              "#9c179e"
             ],
             [
              0.4444444444444444,
              "#bd3786"
             ],
             [
              0.5555555555555556,
              "#d8576b"
             ],
             [
              0.6666666666666666,
              "#ed7953"
             ],
             [
              0.7777777777777778,
              "#fb9f3a"
             ],
             [
              0.8888888888888888,
              "#fdca26"
             ],
             [
              1,
              "#f0f921"
             ]
            ],
            "type": "surface"
           }
          ],
          "table": [
           {
            "cells": {
             "fill": {
              "color": "#EBF0F8"
             },
             "line": {
              "color": "white"
             }
            },
            "header": {
             "fill": {
              "color": "#C8D4E3"
             },
             "line": {
              "color": "white"
             }
            },
            "type": "table"
           }
          ]
         },
         "layout": {
          "annotationdefaults": {
           "arrowcolor": "#2a3f5f",
           "arrowhead": 0,
           "arrowwidth": 1
          },
          "autotypenumbers": "strict",
          "coloraxis": {
           "colorbar": {
            "outlinewidth": 0,
            "ticks": ""
           }
          },
          "colorscale": {
           "diverging": [
            [
             0,
             "#8e0152"
            ],
            [
             0.1,
             "#c51b7d"
            ],
            [
             0.2,
             "#de77ae"
            ],
            [
             0.3,
             "#f1b6da"
            ],
            [
             0.4,
             "#fde0ef"
            ],
            [
             0.5,
             "#f7f7f7"
            ],
            [
             0.6,
             "#e6f5d0"
            ],
            [
             0.7,
             "#b8e186"
            ],
            [
             0.8,
             "#7fbc41"
            ],
            [
             0.9,
             "#4d9221"
            ],
            [
             1,
             "#276419"
            ]
           ],
           "sequential": [
            [
             0,
             "#0d0887"
            ],
            [
             0.1111111111111111,
             "#46039f"
            ],
            [
             0.2222222222222222,
             "#7201a8"
            ],
            [
             0.3333333333333333,
             "#9c179e"
            ],
            [
             0.4444444444444444,
             "#bd3786"
            ],
            [
             0.5555555555555556,
             "#d8576b"
            ],
            [
             0.6666666666666666,
             "#ed7953"
            ],
            [
             0.7777777777777778,
             "#fb9f3a"
            ],
            [
             0.8888888888888888,
             "#fdca26"
            ],
            [
             1,
             "#f0f921"
            ]
           ],
           "sequentialminus": [
            [
             0,
             "#0d0887"
            ],
            [
             0.1111111111111111,
             "#46039f"
            ],
            [
             0.2222222222222222,
             "#7201a8"
            ],
            [
             0.3333333333333333,
             "#9c179e"
            ],
            [
             0.4444444444444444,
             "#bd3786"
            ],
            [
             0.5555555555555556,
             "#d8576b"
            ],
            [
             0.6666666666666666,
             "#ed7953"
            ],
            [
             0.7777777777777778,
             "#fb9f3a"
            ],
            [
             0.8888888888888888,
             "#fdca26"
            ],
            [
             1,
             "#f0f921"
            ]
           ]
          },
          "colorway": [
           "#636efa",
           "#EF553B",
           "#00cc96",
           "#ab63fa",
           "#FFA15A",
           "#19d3f3",
           "#FF6692",
           "#B6E880",
           "#FF97FF",
           "#FECB52"
          ],
          "font": {
           "color": "#2a3f5f"
          },
          "geo": {
           "bgcolor": "white",
           "lakecolor": "white",
           "landcolor": "#E5ECF6",
           "showlakes": true,
           "showland": true,
           "subunitcolor": "white"
          },
          "hoverlabel": {
           "align": "left"
          },
          "hovermode": "closest",
          "mapbox": {
           "style": "light"
          },
          "paper_bgcolor": "white",
          "plot_bgcolor": "#E5ECF6",
          "polar": {
           "angularaxis": {
            "gridcolor": "white",
            "linecolor": "white",
            "ticks": ""
           },
           "bgcolor": "#E5ECF6",
           "radialaxis": {
            "gridcolor": "white",
            "linecolor": "white",
            "ticks": ""
           }
          },
          "scene": {
           "xaxis": {
            "backgroundcolor": "#E5ECF6",
            "gridcolor": "white",
            "gridwidth": 2,
            "linecolor": "white",
            "showbackground": true,
            "ticks": "",
            "zerolinecolor": "white"
           },
           "yaxis": {
            "backgroundcolor": "#E5ECF6",
            "gridcolor": "white",
            "gridwidth": 2,
            "linecolor": "white",
            "showbackground": true,
            "ticks": "",
            "zerolinecolor": "white"
           },
           "zaxis": {
            "backgroundcolor": "#E5ECF6",
            "gridcolor": "white",
            "gridwidth": 2,
            "linecolor": "white",
            "showbackground": true,
            "ticks": "",
            "zerolinecolor": "white"
           }
          },
          "shapedefaults": {
           "line": {
            "color": "#2a3f5f"
           }
          },
          "ternary": {
           "aaxis": {
            "gridcolor": "white",
            "linecolor": "white",
            "ticks": ""
           },
           "baxis": {
            "gridcolor": "white",
            "linecolor": "white",
            "ticks": ""
           },
           "bgcolor": "#E5ECF6",
           "caxis": {
            "gridcolor": "white",
            "linecolor": "white",
            "ticks": ""
           }
          },
          "title": {
           "x": 0.05
          },
          "xaxis": {
           "automargin": true,
           "gridcolor": "white",
           "linecolor": "white",
           "ticks": "",
           "title": {
            "standoff": 15
           },
           "zerolinecolor": "white",
           "zerolinewidth": 2
          },
          "yaxis": {
           "automargin": true,
           "gridcolor": "white",
           "linecolor": "white",
           "ticks": "",
           "title": {
            "standoff": 15
           },
           "zerolinecolor": "white",
           "zerolinewidth": 2
          }
         }
        },
        "title": {
         "text": "Capitalización de Mercado vs. Volumen de Negociación"
        },
        "xaxis": {
         "anchor": "y",
         "domain": [
          0,
          1
         ],
         "title": {
          "text": "Capitalización de Mercado (USD)"
         },
         "type": "log"
        },
        "yaxis": {
         "anchor": "x",
         "domain": [
          0,
          1
         ],
         "title": {
          "text": "Volumen de Negociación"
         },
         "type": "log"
        }
       }
      }
     },
     "metadata": {},
     "output_type": "display_data"
    }
   ],
   "source": [
    "# Grafiación de la correlación de los datos de las columnas 'market_cap' y 'total_volume'\n",
    "\n",
    "fig = px.scatter(coinsMktDataByIds, x=\"market_cap\", y=\"total_volume\", hover_name=\"name\",\n",
    "                 title=\"Capitalización de Mercado vs. Volumen de Negociación\",\n",
    "                 labels={\"market_cap\": \"Capitalización de Mercado (USD)\",\n",
    "                         \"total_volume\": \"Volumen de Negociación\"})\n",
    "\n",
    "fig.update_layout(xaxis_type=\"log\", yaxis_type=\"log\")\n",
    "fig.show()\n"
   ]
  },
  {
   "attachments": {},
   "cell_type": "markdown",
   "metadata": {},
   "source": [
    "# Análisis de la capitalización de mercado con respecto al Volumen de Negociación.\n",
    "\n",
    "Podemos interpretar a partir de los datos presentados que se tiene una relación directa entre la capitalzación de mercado y el Volumen de Negociación en el mercado de las criptomonedas, es decir en cuanto mayor sea la capitalización de mercado tenga una criptomoneda igualmente va creciendo el volumen de Negociación.\n",
    "Según los datos disponibles en la API CoinGecko las monedas que presentan esta relación en la capitalización son el bitcoin y el ethereum seguidos por el USDCoin. Dentro de la canasta de monedas analizadas el Polkadot presenta la menor relación entres estas variables."
   ]
  },
  {
   "cell_type": "code",
   "execution_count": 192,
   "metadata": {},
   "outputs": [
    {
     "data": {
      "application/vnd.plotly.v1+json": {
       "config": {
        "plotlyServerURL": "https://plot.ly"
       },
       "data": [
        {
         "hovertemplate": "<b>%{hovertext}</b><br><br>Precio Actual (USD)=%{x}<br>Capitalización de Mercado (USD)=%{y}<extra></extra>",
         "hovertext": [
          "Bitcoin",
          "Ethereum",
          "BNB",
          "XRP",
          "USD Coin",
          "Cardano",
          "Dogecoin",
          "Solana",
          "Polkadot"
         ],
         "legendgroup": "",
         "marker": {
          "color": "#636efa",
          "size": 10,
          "symbol": "circle"
         },
         "mode": "markers",
         "name": "",
         "orientation": "v",
         "showlegend": false,
         "type": "scatter",
         "x": [
          26081,
          1671.86,
          209.41,
          0.524521,
          1.002,
          0.266578,
          0.062523,
          21.23,
          4.45
         ],
         "xaxis": "x",
         "y": [
          507459580333,
          201121701368,
          32188872956,
          27701121816,
          25929584603,
          9328064618,
          8793965161,
          8653034581,
          5629131567
         ],
         "yaxis": "y"
        }
       ],
       "layout": {
        "legend": {
         "tracegroupgap": 0
        },
        "template": {
         "data": {
          "bar": [
           {
            "error_x": {
             "color": "#2a3f5f"
            },
            "error_y": {
             "color": "#2a3f5f"
            },
            "marker": {
             "line": {
              "color": "#E5ECF6",
              "width": 0.5
             },
             "pattern": {
              "fillmode": "overlay",
              "size": 10,
              "solidity": 0.2
             }
            },
            "type": "bar"
           }
          ],
          "barpolar": [
           {
            "marker": {
             "line": {
              "color": "#E5ECF6",
              "width": 0.5
             },
             "pattern": {
              "fillmode": "overlay",
              "size": 10,
              "solidity": 0.2
             }
            },
            "type": "barpolar"
           }
          ],
          "carpet": [
           {
            "aaxis": {
             "endlinecolor": "#2a3f5f",
             "gridcolor": "white",
             "linecolor": "white",
             "minorgridcolor": "white",
             "startlinecolor": "#2a3f5f"
            },
            "baxis": {
             "endlinecolor": "#2a3f5f",
             "gridcolor": "white",
             "linecolor": "white",
             "minorgridcolor": "white",
             "startlinecolor": "#2a3f5f"
            },
            "type": "carpet"
           }
          ],
          "choropleth": [
           {
            "colorbar": {
             "outlinewidth": 0,
             "ticks": ""
            },
            "type": "choropleth"
           }
          ],
          "contour": [
           {
            "colorbar": {
             "outlinewidth": 0,
             "ticks": ""
            },
            "colorscale": [
             [
              0,
              "#0d0887"
             ],
             [
              0.1111111111111111,
              "#46039f"
             ],
             [
              0.2222222222222222,
              "#7201a8"
             ],
             [
              0.3333333333333333,
              "#9c179e"
             ],
             [
              0.4444444444444444,
              "#bd3786"
             ],
             [
              0.5555555555555556,
              "#d8576b"
             ],
             [
              0.6666666666666666,
              "#ed7953"
             ],
             [
              0.7777777777777778,
              "#fb9f3a"
             ],
             [
              0.8888888888888888,
              "#fdca26"
             ],
             [
              1,
              "#f0f921"
             ]
            ],
            "type": "contour"
           }
          ],
          "contourcarpet": [
           {
            "colorbar": {
             "outlinewidth": 0,
             "ticks": ""
            },
            "type": "contourcarpet"
           }
          ],
          "heatmap": [
           {
            "colorbar": {
             "outlinewidth": 0,
             "ticks": ""
            },
            "colorscale": [
             [
              0,
              "#0d0887"
             ],
             [
              0.1111111111111111,
              "#46039f"
             ],
             [
              0.2222222222222222,
              "#7201a8"
             ],
             [
              0.3333333333333333,
              "#9c179e"
             ],
             [
              0.4444444444444444,
              "#bd3786"
             ],
             [
              0.5555555555555556,
              "#d8576b"
             ],
             [
              0.6666666666666666,
              "#ed7953"
             ],
             [
              0.7777777777777778,
              "#fb9f3a"
             ],
             [
              0.8888888888888888,
              "#fdca26"
             ],
             [
              1,
              "#f0f921"
             ]
            ],
            "type": "heatmap"
           }
          ],
          "heatmapgl": [
           {
            "colorbar": {
             "outlinewidth": 0,
             "ticks": ""
            },
            "colorscale": [
             [
              0,
              "#0d0887"
             ],
             [
              0.1111111111111111,
              "#46039f"
             ],
             [
              0.2222222222222222,
              "#7201a8"
             ],
             [
              0.3333333333333333,
              "#9c179e"
             ],
             [
              0.4444444444444444,
              "#bd3786"
             ],
             [
              0.5555555555555556,
              "#d8576b"
             ],
             [
              0.6666666666666666,
              "#ed7953"
             ],
             [
              0.7777777777777778,
              "#fb9f3a"
             ],
             [
              0.8888888888888888,
              "#fdca26"
             ],
             [
              1,
              "#f0f921"
             ]
            ],
            "type": "heatmapgl"
           }
          ],
          "histogram": [
           {
            "marker": {
             "pattern": {
              "fillmode": "overlay",
              "size": 10,
              "solidity": 0.2
             }
            },
            "type": "histogram"
           }
          ],
          "histogram2d": [
           {
            "colorbar": {
             "outlinewidth": 0,
             "ticks": ""
            },
            "colorscale": [
             [
              0,
              "#0d0887"
             ],
             [
              0.1111111111111111,
              "#46039f"
             ],
             [
              0.2222222222222222,
              "#7201a8"
             ],
             [
              0.3333333333333333,
              "#9c179e"
             ],
             [
              0.4444444444444444,
              "#bd3786"
             ],
             [
              0.5555555555555556,
              "#d8576b"
             ],
             [
              0.6666666666666666,
              "#ed7953"
             ],
             [
              0.7777777777777778,
              "#fb9f3a"
             ],
             [
              0.8888888888888888,
              "#fdca26"
             ],
             [
              1,
              "#f0f921"
             ]
            ],
            "type": "histogram2d"
           }
          ],
          "histogram2dcontour": [
           {
            "colorbar": {
             "outlinewidth": 0,
             "ticks": ""
            },
            "colorscale": [
             [
              0,
              "#0d0887"
             ],
             [
              0.1111111111111111,
              "#46039f"
             ],
             [
              0.2222222222222222,
              "#7201a8"
             ],
             [
              0.3333333333333333,
              "#9c179e"
             ],
             [
              0.4444444444444444,
              "#bd3786"
             ],
             [
              0.5555555555555556,
              "#d8576b"
             ],
             [
              0.6666666666666666,
              "#ed7953"
             ],
             [
              0.7777777777777778,
              "#fb9f3a"
             ],
             [
              0.8888888888888888,
              "#fdca26"
             ],
             [
              1,
              "#f0f921"
             ]
            ],
            "type": "histogram2dcontour"
           }
          ],
          "mesh3d": [
           {
            "colorbar": {
             "outlinewidth": 0,
             "ticks": ""
            },
            "type": "mesh3d"
           }
          ],
          "parcoords": [
           {
            "line": {
             "colorbar": {
              "outlinewidth": 0,
              "ticks": ""
             }
            },
            "type": "parcoords"
           }
          ],
          "pie": [
           {
            "automargin": true,
            "type": "pie"
           }
          ],
          "scatter": [
           {
            "fillpattern": {
             "fillmode": "overlay",
             "size": 10,
             "solidity": 0.2
            },
            "type": "scatter"
           }
          ],
          "scatter3d": [
           {
            "line": {
             "colorbar": {
              "outlinewidth": 0,
              "ticks": ""
             }
            },
            "marker": {
             "colorbar": {
              "outlinewidth": 0,
              "ticks": ""
             }
            },
            "type": "scatter3d"
           }
          ],
          "scattercarpet": [
           {
            "marker": {
             "colorbar": {
              "outlinewidth": 0,
              "ticks": ""
             }
            },
            "type": "scattercarpet"
           }
          ],
          "scattergeo": [
           {
            "marker": {
             "colorbar": {
              "outlinewidth": 0,
              "ticks": ""
             }
            },
            "type": "scattergeo"
           }
          ],
          "scattergl": [
           {
            "marker": {
             "colorbar": {
              "outlinewidth": 0,
              "ticks": ""
             }
            },
            "type": "scattergl"
           }
          ],
          "scattermapbox": [
           {
            "marker": {
             "colorbar": {
              "outlinewidth": 0,
              "ticks": ""
             }
            },
            "type": "scattermapbox"
           }
          ],
          "scatterpolar": [
           {
            "marker": {
             "colorbar": {
              "outlinewidth": 0,
              "ticks": ""
             }
            },
            "type": "scatterpolar"
           }
          ],
          "scatterpolargl": [
           {
            "marker": {
             "colorbar": {
              "outlinewidth": 0,
              "ticks": ""
             }
            },
            "type": "scatterpolargl"
           }
          ],
          "scatterternary": [
           {
            "marker": {
             "colorbar": {
              "outlinewidth": 0,
              "ticks": ""
             }
            },
            "type": "scatterternary"
           }
          ],
          "surface": [
           {
            "colorbar": {
             "outlinewidth": 0,
             "ticks": ""
            },
            "colorscale": [
             [
              0,
              "#0d0887"
             ],
             [
              0.1111111111111111,
              "#46039f"
             ],
             [
              0.2222222222222222,
              "#7201a8"
             ],
             [
              0.3333333333333333,
              "#9c179e"
             ],
             [
              0.4444444444444444,
              "#bd3786"
             ],
             [
              0.5555555555555556,
              "#d8576b"
             ],
             [
              0.6666666666666666,
              "#ed7953"
             ],
             [
              0.7777777777777778,
              "#fb9f3a"
             ],
             [
              0.8888888888888888,
              "#fdca26"
             ],
             [
              1,
              "#f0f921"
             ]
            ],
            "type": "surface"
           }
          ],
          "table": [
           {
            "cells": {
             "fill": {
              "color": "#EBF0F8"
             },
             "line": {
              "color": "white"
             }
            },
            "header": {
             "fill": {
              "color": "#C8D4E3"
             },
             "line": {
              "color": "white"
             }
            },
            "type": "table"
           }
          ]
         },
         "layout": {
          "annotationdefaults": {
           "arrowcolor": "#2a3f5f",
           "arrowhead": 0,
           "arrowwidth": 1
          },
          "autotypenumbers": "strict",
          "coloraxis": {
           "colorbar": {
            "outlinewidth": 0,
            "ticks": ""
           }
          },
          "colorscale": {
           "diverging": [
            [
             0,
             "#8e0152"
            ],
            [
             0.1,
             "#c51b7d"
            ],
            [
             0.2,
             "#de77ae"
            ],
            [
             0.3,
             "#f1b6da"
            ],
            [
             0.4,
             "#fde0ef"
            ],
            [
             0.5,
             "#f7f7f7"
            ],
            [
             0.6,
             "#e6f5d0"
            ],
            [
             0.7,
             "#b8e186"
            ],
            [
             0.8,
             "#7fbc41"
            ],
            [
             0.9,
             "#4d9221"
            ],
            [
             1,
             "#276419"
            ]
           ],
           "sequential": [
            [
             0,
             "#0d0887"
            ],
            [
             0.1111111111111111,
             "#46039f"
            ],
            [
             0.2222222222222222,
             "#7201a8"
            ],
            [
             0.3333333333333333,
             "#9c179e"
            ],
            [
             0.4444444444444444,
             "#bd3786"
            ],
            [
             0.5555555555555556,
             "#d8576b"
            ],
            [
             0.6666666666666666,
             "#ed7953"
            ],
            [
             0.7777777777777778,
             "#fb9f3a"
            ],
            [
             0.8888888888888888,
             "#fdca26"
            ],
            [
             1,
             "#f0f921"
            ]
           ],
           "sequentialminus": [
            [
             0,
             "#0d0887"
            ],
            [
             0.1111111111111111,
             "#46039f"
            ],
            [
             0.2222222222222222,
             "#7201a8"
            ],
            [
             0.3333333333333333,
             "#9c179e"
            ],
            [
             0.4444444444444444,
             "#bd3786"
            ],
            [
             0.5555555555555556,
             "#d8576b"
            ],
            [
             0.6666666666666666,
             "#ed7953"
            ],
            [
             0.7777777777777778,
             "#fb9f3a"
            ],
            [
             0.8888888888888888,
             "#fdca26"
            ],
            [
             1,
             "#f0f921"
            ]
           ]
          },
          "colorway": [
           "#636efa",
           "#EF553B",
           "#00cc96",
           "#ab63fa",
           "#FFA15A",
           "#19d3f3",
           "#FF6692",
           "#B6E880",
           "#FF97FF",
           "#FECB52"
          ],
          "font": {
           "color": "#2a3f5f"
          },
          "geo": {
           "bgcolor": "white",
           "lakecolor": "white",
           "landcolor": "#E5ECF6",
           "showlakes": true,
           "showland": true,
           "subunitcolor": "white"
          },
          "hoverlabel": {
           "align": "left"
          },
          "hovermode": "closest",
          "mapbox": {
           "style": "light"
          },
          "paper_bgcolor": "white",
          "plot_bgcolor": "#E5ECF6",
          "polar": {
           "angularaxis": {
            "gridcolor": "white",
            "linecolor": "white",
            "ticks": ""
           },
           "bgcolor": "#E5ECF6",
           "radialaxis": {
            "gridcolor": "white",
            "linecolor": "white",
            "ticks": ""
           }
          },
          "scene": {
           "xaxis": {
            "backgroundcolor": "#E5ECF6",
            "gridcolor": "white",
            "gridwidth": 2,
            "linecolor": "white",
            "showbackground": true,
            "ticks": "",
            "zerolinecolor": "white"
           },
           "yaxis": {
            "backgroundcolor": "#E5ECF6",
            "gridcolor": "white",
            "gridwidth": 2,
            "linecolor": "white",
            "showbackground": true,
            "ticks": "",
            "zerolinecolor": "white"
           },
           "zaxis": {
            "backgroundcolor": "#E5ECF6",
            "gridcolor": "white",
            "gridwidth": 2,
            "linecolor": "white",
            "showbackground": true,
            "ticks": "",
            "zerolinecolor": "white"
           }
          },
          "shapedefaults": {
           "line": {
            "color": "#2a3f5f"
           }
          },
          "ternary": {
           "aaxis": {
            "gridcolor": "white",
            "linecolor": "white",
            "ticks": ""
           },
           "baxis": {
            "gridcolor": "white",
            "linecolor": "white",
            "ticks": ""
           },
           "bgcolor": "#E5ECF6",
           "caxis": {
            "gridcolor": "white",
            "linecolor": "white",
            "ticks": ""
           }
          },
          "title": {
           "x": 0.05
          },
          "xaxis": {
           "automargin": true,
           "gridcolor": "white",
           "linecolor": "white",
           "ticks": "",
           "title": {
            "standoff": 15
           },
           "zerolinecolor": "white",
           "zerolinewidth": 2
          },
          "yaxis": {
           "automargin": true,
           "gridcolor": "white",
           "linecolor": "white",
           "ticks": "",
           "title": {
            "standoff": 15
           },
           "zerolinecolor": "white",
           "zerolinewidth": 2
          }
         }
        },
        "title": {
         "text": "Relación entre Capitalización de Mercado y Precio Actual"
        },
        "xaxis": {
         "anchor": "y",
         "domain": [
          0,
          1
         ],
         "title": {
          "text": "Precio Actual (USD)"
         }
        },
        "yaxis": {
         "anchor": "x",
         "domain": [
          0,
          1
         ],
         "title": {
          "text": "Capitalización de Mercado (USD)"
         }
        }
       }
      }
     },
     "metadata": {},
     "output_type": "display_data"
    }
   ],
   "source": [
    "# Graficación de la correlación entre la capitalización de Mercado y el Precio Actual del conjunto de monedas de análisis\n",
    "\n",
    "fig = px.scatter(CoinsMktAnalysis, x=\"current_price\", y=\"market_cap\", hover_name=\"name\",\n",
    "                 title=\"Relación entre Capitalización de Mercado y Precio Actual\",\n",
    "                 labels={\"current_price\": \"Precio Actual (USD)\",\n",
    "                         \"market_cap\": \"Capitalización de Mercado (USD)\"})\n",
    "fig.update_layout(xaxis_title=\"Precio Actual (USD)\", yaxis_title=\"Capitalización de Mercado (USD)\")\n",
    "fig.update_traces(marker=dict(size=10))\n",
    "fig.show()\n"
   ]
  },
  {
   "attachments": {},
   "cell_type": "markdown",
   "metadata": {},
   "source": [
    "## Capitalización de Mercado y Precio Actual\n",
    "Como se puede evidenciar en el gráfico, se tiene una correlación directa en la capitalización del mercado y el precio actual de la criptomoneda. Es asi cómo el bitcoin, de todas las monedas analizadas, presenta tanto una mayor capitalización de mercado como yn precio mayo con respecto a las otras monedas de la canasta de análisis.\n",
    "\n",
    "En ese sentido, se puede afirmara que el bloque de criptomonedas del análisis tiene tres subgrupos. \n",
    "Un primer grupo, en donde se ubica el bitcoin en el cuadrante superior derecho, el cual ha logrado la mayor capitalización de mercado de mas de USD500B y un precio que se encuentra por encima de los USD28mil. \n",
    "Un segundo bloque en donde se encuentra el ethereum con una capitalización cercanana a los USD217B, mientras que en un tercer grupo se enceuntran las otras monedas que tienen una capitalización de mercado por debajo de los USD100B y cuyo precio se encuentra en  USD0,5 y un tope máximo de USD250\n",
    "\n",
    "---"
   ]
  },
  {
   "attachments": {},
   "cell_type": "markdown",
   "metadata": {},
   "source": [
    "### Ánalisis de comportamiento del precio del conjunto de monedas desde el 2020-01-01 hasta el 2023-01-01\n",
    "-----------\n",
    "\n",
    "## Serie de tiempo analizado\n",
    "\n",
    "El año 2020 será recordado como aquel que cambió las relaciones sociales y con ellas los hábitos de consumo y por ende la economía y las inversiones.\n",
    "Los analisis realizados con el proyecto estan enfocados a la observación del comportamiento de la canasta de criptomonedas arriba mencionadas durante la denominada post-pandemia. \n",
    "Es decir, con el proyecto centramos en análisis en que ha pasado con la canasta de criptomonedas desde enero del año 2020, cuando los rumores de un posible lock-down apenas aperecian como consecuencia de las noticias que se generaban desde los países asiáticos, hasta enero de 2023, es decir el periodo de tiempo en donde las actividades económicas se desarrollan de lo que se ha denominado como la \"nueva normalidad\". \n",
    "\n",
    "\n",
    "Para realizar éste análisis es necesario construir una función, a partir de los datos que se enceuntran en la API de CoinGecko en la cual se ingrese la lista de las monedas del análisis y luego se obtenga el comportamiento del precio desde una fecha de inicio(start_date) hasta una fecha final (end_date)"
   ]
  },
  {
   "cell_type": "code",
   "execution_count": 193,
   "metadata": {},
   "outputs": [],
   "source": [
    "#construcción de la función get_price_history con la que obtendremos el comportamiento de los precios de las monedas del análisis durante el periodo de de 2020-01-01 y el 2023-01-01\n",
    "import requests\n",
    "import datetime\n",
    "\n",
    "def get_price_history(coins_analysis):\n",
    "    url = \"https://api.coingecko.com/api/v3/coins/markets\"\n",
    "\n",
    "    # Fecha actual\n",
    "    end_date = datetime.datetime.now()\n",
    "\n",
    "    # Fecha hace tres años\n",
    "    start_date = end_date - datetime.timedelta(days=3 * 365)\n",
    "\n",
    "    # Parámetros de la API\n",
    "    params = {\n",
    "        \"vs_currency\": \"usd\",\n",
    "        \"ids\": ','.join(coins_analysis),\n",
    "        \"from\": int(start_date.timestamp()),\n",
    "        \"to\": int(end_date.timestamp())\n",
    "    }\n",
    "\n",
    "    response = requests.get(url, params=params)\n",
    "    data = response.json()\n",
    "    return data\n"
   ]
  },
  {
   "cell_type": "code",
   "execution_count": 194,
   "metadata": {},
   "outputs": [],
   "source": [
    "price_history= get_price_history( ['bitcoin', 'ethereum', 'cardano','polkadot', 'ripple', 'dogecoin','usd-coin', 'binancecoin','solana'])"
   ]
  },
  {
   "cell_type": "code",
   "execution_count": 195,
   "metadata": {},
   "outputs": [
    {
     "data": {
      "text/plain": [
       "[{'id': 'bitcoin',\n",
       "  'symbol': 'btc',\n",
       "  'name': 'Bitcoin',\n",
       "  'image': 'https://assets.coingecko.com/coins/images/1/large/bitcoin.png?1547033579',\n",
       "  'current_price': 26081,\n",
       "  'market_cap': 507459580333,\n",
       "  'market_cap_rank': 1,\n",
       "  'fully_diluted_valuation': 547506612577,\n",
       "  'total_volume': 10968447362,\n",
       "  'high_24h': 26225,\n",
       "  'low_24h': 25944,\n",
       "  'price_change_24h': -18.410626343476906,\n",
       "  'price_change_percentage_24h': -0.07054,\n",
       "  'market_cap_change_24h': 967936423,\n",
       "  'market_cap_change_percentage_24h': 0.19111,\n",
       "  'circulating_supply': 19463968.0,\n",
       "  'total_supply': 21000000.0,\n",
       "  'max_supply': 21000000.0,\n",
       "  'ath': 69045,\n",
       "  'ath_change_percentage': -62.18466,\n",
       "  'ath_date': '2021-11-10T14:24:11.849Z',\n",
       "  'atl': 67.81,\n",
       "  'atl_change_percentage': 38404.49674,\n",
       "  'atl_date': '2013-07-06T00:00:00.000Z',\n",
       "  'roi': None,\n",
       "  'last_updated': '2023-08-21T15:17:12.118Z'},\n",
       " {'id': 'ethereum',\n",
       "  'symbol': 'eth',\n",
       "  'name': 'Ethereum',\n",
       "  'image': 'https://assets.coingecko.com/coins/images/279/large/ethereum.png?1595348880',\n",
       "  'current_price': 1671.86,\n",
       "  'market_cap': 201121701368,\n",
       "  'market_cap_rank': 2,\n",
       "  'fully_diluted_valuation': 201121701368,\n",
       "  'total_volume': 5659928165,\n",
       "  'high_24h': 1689.26,\n",
       "  'low_24h': 1666.24,\n",
       "  'price_change_24h': 0.580222,\n",
       "  'price_change_percentage_24h': 0.03472,\n",
       "  'market_cap_change_24h': 677893258,\n",
       "  'market_cap_change_percentage_24h': 0.3382,\n",
       "  'circulating_supply': 120215150.7199,\n",
       "  'total_supply': 120215150.7199,\n",
       "  'max_supply': None,\n",
       "  'ath': 4878.26,\n",
       "  'ath_change_percentage': -65.65508,\n",
       "  'ath_date': '2021-11-10T14:24:19.604Z',\n",
       "  'atl': 0.432979,\n",
       "  'atl_change_percentage': 386855.30552,\n",
       "  'atl_date': '2015-10-20T00:00:00.000Z',\n",
       "  'roi': {'times': 84.71348525190749,\n",
       "   'currency': 'btc',\n",
       "   'percentage': 8471.348525190748},\n",
       "  'last_updated': '2023-08-21T15:17:15.933Z'},\n",
       " {'id': 'binancecoin',\n",
       "  'symbol': 'bnb',\n",
       "  'name': 'BNB',\n",
       "  'image': 'https://assets.coingecko.com/coins/images/825/large/bnb-icon2_2x.png?1644979850',\n",
       "  'current_price': 209.41,\n",
       "  'market_cap': 32188872956,\n",
       "  'market_cap_rank': 4,\n",
       "  'fully_diluted_valuation': 41842816105,\n",
       "  'total_volume': 516538119,\n",
       "  'high_24h': 217.6,\n",
       "  'low_24h': 208.36,\n",
       "  'price_change_24h': -6.612875232806175,\n",
       "  'price_change_percentage_24h': -3.06124,\n",
       "  'market_cap_change_24h': -998361216.1178246,\n",
       "  'market_cap_change_percentage_24h': -3.00827,\n",
       "  'circulating_supply': 153856150.0,\n",
       "  'total_supply': 153856150.0,\n",
       "  'max_supply': 200000000.0,\n",
       "  'ath': 686.31,\n",
       "  'ath_change_percentage': -69.40276,\n",
       "  'ath_date': '2021-05-10T07:24:17.097Z',\n",
       "  'atl': 0.0398177,\n",
       "  'atl_change_percentage': 527280.84394,\n",
       "  'atl_date': '2017-10-19T00:00:00.000Z',\n",
       "  'roi': None,\n",
       "  'last_updated': '2023-08-21T15:17:18.511Z'},\n",
       " {'id': 'ripple',\n",
       "  'symbol': 'xrp',\n",
       "  'name': 'XRP',\n",
       "  'image': 'https://assets.coingecko.com/coins/images/44/large/xrp-symbol-white-128.png?1605778731',\n",
       "  'current_price': 0.524521,\n",
       "  'market_cap': 27701121816,\n",
       "  'market_cap_rank': 5,\n",
       "  'fully_diluted_valuation': 52422676620,\n",
       "  'total_volume': 1194260541,\n",
       "  'high_24h': 0.543888,\n",
       "  'low_24h': 0.518541,\n",
       "  'price_change_24h': -0.013332338901659411,\n",
       "  'price_change_percentage_24h': -2.4788,\n",
       "  'market_cap_change_24h': -640387478.5878639,\n",
       "  'market_cap_change_percentage_24h': -2.25954,\n",
       "  'circulating_supply': 52841868447.0,\n",
       "  'total_supply': 99988501123.0,\n",
       "  'max_supply': 100000000000.0,\n",
       "  'ath': 3.4,\n",
       "  'ath_change_percentage': -84.53464,\n",
       "  'ath_date': '2018-01-07T00:00:00.000Z',\n",
       "  'atl': 0.00268621,\n",
       "  'atl_change_percentage': 19465.97053,\n",
       "  'atl_date': '2014-05-22T00:00:00.000Z',\n",
       "  'roi': None,\n",
       "  'last_updated': '2023-08-21T15:17:10.766Z'},\n",
       " {'id': 'usd-coin',\n",
       "  'symbol': 'usdc',\n",
       "  'name': 'USD Coin',\n",
       "  'image': 'https://assets.coingecko.com/coins/images/6319/large/USD_Coin_icon.png?1547042389',\n",
       "  'current_price': 1.002,\n",
       "  'market_cap': 25929584603,\n",
       "  'market_cap_rank': 6,\n",
       "  'fully_diluted_valuation': 25929649542,\n",
       "  'total_volume': 4027395027,\n",
       "  'high_24h': 1.002,\n",
       "  'low_24h': 0.997806,\n",
       "  'price_change_24h': 0.0021233,\n",
       "  'price_change_percentage_24h': 0.21241,\n",
       "  'market_cap_change_24h': -30015068.835201263,\n",
       "  'market_cap_change_percentage_24h': -0.11562,\n",
       "  'circulating_supply': 25912948307.3715,\n",
       "  'total_supply': 25913013204.6694,\n",
       "  'max_supply': None,\n",
       "  'ath': 1.17,\n",
       "  'ath_change_percentage': -14.72518,\n",
       "  'ath_date': '2019-05-08T00:40:28.300Z',\n",
       "  'atl': 0.877647,\n",
       "  'atl_change_percentage': 13.9437,\n",
       "  'atl_date': '2023-03-11T08:02:13.981Z',\n",
       "  'roi': None,\n",
       "  'last_updated': '2023-08-21T15:17:15.779Z'},\n",
       " {'id': 'cardano',\n",
       "  'symbol': 'ada',\n",
       "  'name': 'Cardano',\n",
       "  'image': 'https://assets.coingecko.com/coins/images/975/large/cardano.png?1547034860',\n",
       "  'current_price': 0.266578,\n",
       "  'market_cap': 9328064618,\n",
       "  'market_cap_rank': 8,\n",
       "  'fully_diluted_valuation': 11977818756,\n",
       "  'total_volume': 164167124,\n",
       "  'high_24h': 0.272455,\n",
       "  'low_24h': 0.265304,\n",
       "  'price_change_24h': -0.002031246773926021,\n",
       "  'price_change_percentage_24h': -0.75621,\n",
       "  'market_cap_change_24h': -46671427.99938774,\n",
       "  'market_cap_change_percentage_24h': -0.49784,\n",
       "  'circulating_supply': 35045020830.3234,\n",
       "  'total_supply': 45000000000.0,\n",
       "  'max_supply': 45000000000.0,\n",
       "  'ath': 3.09,\n",
       "  'ath_change_percentage': -91.36035,\n",
       "  'ath_date': '2021-09-02T06:00:10.474Z',\n",
       "  'atl': 0.01925275,\n",
       "  'atl_change_percentage': 1285.24853,\n",
       "  'atl_date': '2020-03-13T02:22:55.044Z',\n",
       "  'roi': None,\n",
       "  'last_updated': '2023-08-21T15:17:16.031Z'},\n",
       " {'id': 'dogecoin',\n",
       "  'symbol': 'doge',\n",
       "  'name': 'Dogecoin',\n",
       "  'image': 'https://assets.coingecko.com/coins/images/5/large/dogecoin.png?1547792256',\n",
       "  'current_price': 0.062523,\n",
       "  'market_cap': 8793965161,\n",
       "  'market_cap_rank': 9,\n",
       "  'fully_diluted_valuation': 8793963286,\n",
       "  'total_volume': 281339394,\n",
       "  'high_24h': 0.064091,\n",
       "  'low_24h': 0.062245,\n",
       "  'price_change_24h': -0.001255755437733458,\n",
       "  'price_change_percentage_24h': -1.96891,\n",
       "  'market_cap_change_24h': -148414555.48270988,\n",
       "  'market_cap_change_percentage_24h': -1.65968,\n",
       "  'circulating_supply': 140681856383.705,\n",
       "  'total_supply': 140681826383.705,\n",
       "  'max_supply': None,\n",
       "  'ath': 0.731578,\n",
       "  'ath_change_percentage': -91.42883,\n",
       "  'ath_date': '2021-05-08T05:08:23.458Z',\n",
       "  'atl': 8.69e-05,\n",
       "  'atl_change_percentage': 72054.2757,\n",
       "  'atl_date': '2015-05-06T00:00:00.000Z',\n",
       "  'roi': None,\n",
       "  'last_updated': '2023-08-21T15:17:12.177Z'},\n",
       " {'id': 'solana',\n",
       "  'symbol': 'sol',\n",
       "  'name': 'Solana',\n",
       "  'image': 'https://assets.coingecko.com/coins/images/4128/large/solana.png?1640133422',\n",
       "  'current_price': 21.23,\n",
       "  'market_cap': 8653034581,\n",
       "  'market_cap_rank': 10,\n",
       "  'fully_diluted_valuation': 11790818362,\n",
       "  'total_volume': 265995795,\n",
       "  'high_24h': 21.91,\n",
       "  'low_24h': 21.02,\n",
       "  'price_change_24h': -0.5456103200301321,\n",
       "  'price_change_percentage_24h': -2.50528,\n",
       "  'market_cap_change_24h': -202159993.872406,\n",
       "  'market_cap_change_percentage_24h': -2.28295,\n",
       "  'circulating_supply': 407643918.66722,\n",
       "  'total_supply': 555464716.584358,\n",
       "  'max_supply': None,\n",
       "  'ath': 259.96,\n",
       "  'ath_change_percentage': -91.81049,\n",
       "  'ath_date': '2021-11-06T21:54:35.825Z',\n",
       "  'atl': 0.500801,\n",
       "  'atl_change_percentage': 4151.06472,\n",
       "  'atl_date': '2020-05-11T19:35:23.449Z',\n",
       "  'roi': None,\n",
       "  'last_updated': '2023-08-21T15:17:15.396Z'},\n",
       " {'id': 'polkadot',\n",
       "  'symbol': 'dot',\n",
       "  'name': 'Polkadot',\n",
       "  'image': 'https://assets.coingecko.com/coins/images/12171/large/polkadot.png?1639712644',\n",
       "  'current_price': 4.45,\n",
       "  'market_cap': 5629131567,\n",
       "  'market_cap_rank': 12,\n",
       "  'fully_diluted_valuation': 5989009135,\n",
       "  'total_volume': 97502440,\n",
       "  'high_24h': 4.53,\n",
       "  'low_24h': 4.45,\n",
       "  'price_change_24h': -0.04032921901950104,\n",
       "  'price_change_percentage_24h': -0.89793,\n",
       "  'market_cap_change_24h': -35536873.72577095,\n",
       "  'market_cap_change_percentage_24h': -0.62734,\n",
       "  'circulating_supply': 1266189836.6482,\n",
       "  'total_supply': 1347138969.55246,\n",
       "  'max_supply': None,\n",
       "  'ath': 54.98,\n",
       "  'ath_change_percentage': -91.88961,\n",
       "  'ath_date': '2021-11-04T14:10:09.301Z',\n",
       "  'atl': 2.7,\n",
       "  'atl_change_percentage': 65.31006,\n",
       "  'atl_date': '2020-08-20T05:48:11.359Z',\n",
       "  'roi': None,\n",
       "  'last_updated': '2023-08-21T15:17:14.036Z'}]"
      ]
     },
     "execution_count": 195,
     "metadata": {},
     "output_type": "execute_result"
    }
   ],
   "source": [
    "price_history"
   ]
  },
  {
   "cell_type": "code",
   "execution_count": 200,
   "metadata": {},
   "outputs": [
    {
     "data": {
      "image/png": "[encoded data removed]",
      "text/plain": [
       "<Figure size 1200x800 with 1 Axes>"
      ]
     },
     "metadata": {},
     "output_type": "display_data"
    }
   ],
   "source": [
    "import requests\n",
    "import datetime\n",
    "import matplotlib.pyplot as plt\n",
    "\n",
    "def get_price_history(coin_id, start_date, end_date):\n",
    "    url = f\"https://api.coingecko.com/api/v3/coins/{coin_id}/market_chart/range\"\n",
    "\n",
    "    # Parámetros de la API\n",
    "    params = {\n",
    "        \"vs_currency\": \"usd\",\n",
    "        \"from\": int(start_date.timestamp()),\n",
    "        \"to\": int(end_date.timestamp())\n",
    "    }\n",
    "\n",
    "    response = requests.get(url, params=params)\n",
    "    data = response.json()\n",
    "    return data\n",
    "\n",
    "# Fechas de inicio y fin\n",
    "start_date = datetime.datetime(2021, 1, 1)\n",
    "end_date = datetime.datetime(2023, 1, 1)\n",
    "\n",
    "# Lista de criptomonedas\n",
    "coins_analysis = ['bitcoin', 'ethereum', 'cardano', 'polkadot', 'ripple', 'dogecoin', 'usd-coin', 'binancecoin', 'solana']\n",
    "\n",
    "# Crear la figura del gráfico\n",
    "plt.figure(figsize=(12, 8))\n",
    "\n",
    "# Graficar los precios de cada criptomoneda\n",
    "for coin_id in coins_analysis:\n",
    "    coin_data = get_price_history(coin_id, start_date, end_date)\n",
    "    prices = [entry[1] for entry in coin_data['prices']]\n",
    "    dates = [datetime.datetime.fromtimestamp(entry[0] / 1000) for entry in coin_data['prices']]\n",
    "\n",
    "    # Gráfico de precios\n",
    "    plt.plot(dates, prices, label=coin_id)\n",
    "\n",
    "# Personalizar el gráfico\n",
    "plt.xlabel('Fecha')\n",
    "plt.ylabel('Precio (USD)')\n",
    "plt.title('Historial de Precios de Criptomonedas (2021-2023)')\n",
    "plt.grid(True)\n",
    "plt.legend()\n",
    "plt.xticks(rotation=45)\n",
    "plt.tight_layout()\n",
    "\n",
    "# Mostrar el gráfico\n",
    "plt.show()\n"
   ]
  },
  {
   "attachments": {},
   "cell_type": "markdown",
   "metadata": {},
   "source": [
    "\n",
    "\n",
    "De acuerdo con la gráfica, el bitcoin ha presentado variacioens en su precio durante el período analizado, teniendo su apreciación máxima en el último trimestre del 2019 en donde alcanzó un ROI cercano a los 70.000USD hasta caer a niveles de alrededor de los 17.000USd en enero del 2023. Presentando una tendencia alcista durante desde finales del 2020 que se mantuvo hasta mediados del año 2021, para luego bajar al nivel de los USD30.000 y tener un rebote nuevamente a finales del año 2021 en donde alacanzo un nivel cercano a lo \n",
    "USD70.000, sin emabargo a partir de esa fecha la moneda ha venido presentando en este indicador una desmejora en su comportamiento.\n",
    "\n",
    "Cabe mencionar que el ROI mide rendimientos en el pasado, con lo cual no se puede afirmar que en el futuro el comportamiento del activo mantenga la tendencia, sin embargo para el caso del bitcoin el análisis de los datos permite evidenciar su volatilidad, lo que para los tenedores de la cripto se traduce en una moneda de alto riesgo, la cual puede reportar grandes ganancias como grandes pérdidas a lo largo del tiempo.\n",
    "\n",
    "Por otro lado, el resto de conjunto de monedas presentan comportamnientos menos variables con los que se pueden considerar más estables y menos riesgosas, con comportamientos tipo llano en su línea de tiempo. Resalta en este conjunto el Ethereum, el cual durante el período analizado presentado tendencias similares al bitcoin, sin tener comportamientos pico sino tendencias mas suaves tanto al alza como a la baja.\n",
    "\n",
    "---"
   ]
  },
  {
   "attachments": {},
   "cell_type": "markdown",
   "metadata": {},
   "source": [
    "### Análisis de la evolución del Circulating Supply de las criptomonedas analizadas durante el período de tiempo 2020-01-01 al 2023-01-01\n",
    "\n",
    "El suministro circulante o Circulating supply es la mejor aproximación del número de monedas que están circulando en el Mercado y en las manos del público en general.\n",
    "\n",
    "---"
   ]
  },
  {
   "cell_type": "code",
   "execution_count": null,
   "metadata": {},
   "outputs": [
    {
     "name": "stdout",
     "output_type": "stream",
     "text": [
      "Archivo CSV 'circulating_supply_data.csv' y gráfico 'circulating_supply_chart.png' creados exitosamente.\n"
     ]
    },
    {
     "data": {
      "image/png": "[encoded data removed]",
      "text/plain": [
       "<Figure size 1200x800 with 1 Axes>"
      ]
     },
     "metadata": {},
     "output_type": "display_data"
    }
   ],
   "source": [
    "import requests\n",
    "import datetime\n",
    "import pandas as pd\n",
    "import matplotlib.pyplot as plt\n",
    "\n",
    "# Función para obtener datos históricos de circulating supply\n",
    "def get_historical_supply(coin_id, start_date, end_date):\n",
    "    url = f\"https://api.coingecko.com/api/v3/coins/{coin_id}/market_chart/range\"\n",
    "    params = {\n",
    "        \"vs_currency\": \"usd\",\n",
    "        \"from\": start_date.timestamp(),\n",
    "        \"to\": end_date.timestamp()\n",
    "    }\n",
    "    response = requests.get(url, params=params)\n",
    "    data = response.json()\n",
    "    return data\n",
    "\n",
    "# Definir las fechas de inicio y fin\n",
    "start_date = datetime.datetime(2020, 1, 1)\n",
    "end_date = datetime.datetime(2023, 1, 1)\n",
    "\n",
    "# Lista de monedas para el análisis\n",
    "coins_analysis = ['bitcoin', 'ethereum', 'cardano', 'polkadot', 'ripple', 'dogecoin', 'usd-coin', 'binancecoin', 'solana']\n",
    "\n",
    "# Crear un DataFrame para almacenar los datos\n",
    "df = pd.DataFrame(columns=['Date'] + coins_analysis)\n",
    "\n",
    "# Obtener los datos de circulating supply y agregarlos al DataFrame\n",
    "for coin_id in coins_analysis:\n",
    "    try:\n",
    "        historical_data = get_historical_supply(coin_id, start_date, end_date)\n",
    "        supply_data = [(entry[0] / 1000, entry[1]) for entry in historical_data['total_volumes']]\n",
    "        timestamps, supplies = zip(*supply_data)\n",
    "        dates = [datetime.datetime.fromtimestamp(timestamp) for timestamp in timestamps]\n",
    "        \n",
    "        df[coin_id] = supplies\n",
    "        df['Date'] = dates\n",
    "    except:\n",
    "        pass\n",
    "\n",
    "# Guardar el DataFrame en un archivo CSV\n",
    "csv_filename = 'circulating_supply_data.csv'\n",
    "df.to_csv(csv_filename, index=False)\n",
    "\n",
    "# Crear el gráfico\n",
    "plt.figure(figsize=(12, 8))\n",
    "for coin_id in coins_analysis:\n",
    "    plt.plot(df['Date'], df[coin_id], marker='o', label=coin_id)\n",
    "\n",
    "plt.xlabel('Fecha')\n",
    "plt.ylabel('Circulating Supply')\n",
    "plt.title('Evolución de Circulating Supply de Criptomonedas (2020-2023)')\n",
    "plt.grid(True)\n",
    "plt.legend()\n",
    "plt.xticks(rotation=45)\n",
    "plt.tight_layout()\n",
    "\n",
    "# Guardar el gráfico en una imagen\n",
    "plt.savefig('circulating_supply_chart.png')\n",
    "\n",
    "print(f\"Archivo CSV '{csv_filename}' y gráfico 'circulating_supply_chart.png' creados exitosamente.\")\n"
   ]
  },
  {
   "attachments": {},
   "cell_type": "markdown",
   "metadata": {},
   "source": [
    "\n",
    "El mercado de las ciptomonedas se rige, como cualquier mercado por la oferta y la demanda. En este sentido la oferta está determinada por el Circulating Supply que tiene cada una de las monedas del análisis. \n",
    "\n",
    "En este punto es importante tener en cuenta que dentro del mercado de las criptomonedas algunas tienn una restricción de oferta determinado principalmente por sus propias políticas, es así como por ejemplo el bitcoin tiene un limite de monedas circulantes lo que incluso, según los analistas ha contribuido de manera positiva en su comportamiento ya que le da la característica de un bien escaso. Para otros analistas sin embargo esta característica aporta en gran medida a la especulación sobre el precio. Por otro lado hay criptomonedas que la creación de Circulating Supply es ilimitado. \n",
    "\n",
    "De acuerdo con el gráfico entonces, se puede evidenciar como durante el período analizado las criptomonedas analizadas han tenido la tendencia a incrementar su Circulating Supply, lo que ha incidido directamente en el componente de oferta de la moneda. \n",
    "\n",
    "El comportamiento de incremento del circulante de la moneda se presenta en el 100% de los activos analizados, pero particularmente presenta dos picos de incrementos máximos en el año 2021, en el primer y segundo trimestre principalmente para el bitcoin y el ethereum. Resalta, sin embargo que luego de estos incrementos se realizaron incrementos que en ninguno de los casos alcanzó el nivel presentado para el primer trimestre del 2021. \n",
    "\n",
    "Es notable que si bien en particular el mercado de las criptomonedas se rige por la oferta y la demanda, el incremento del Circulating Supply afecta directamente a los tenedores de los activoa toda vez que en la medida en que se tenga mayor oferta del bien su precio se disminuye, siempre y cuando la demanda se mantenga estable, lo que parece ser el caso, teniendo en cuenta los niveles máximos y míminos presentados en la gráfica.\n",
    "\n",
    "---"
   ]
  },
  {
   "attachments": {},
   "cell_type": "markdown",
   "metadata": {},
   "source": [
    "### Aálisis de la evolución de la capitalización de mercado del conjunto de criptomonedas durante el período de tiempo 2020-01-01 al 2023-01-01"
   ]
  },
  {
   "cell_type": "code",
   "execution_count": 204,
   "metadata": {},
   "outputs": [
    {
     "data": {
      "image/png": "[encoded data removed]",
      "text/plain": [
       "<Figure size 1200x800 with 1 Axes>"
      ]
     },
     "metadata": {},
     "output_type": "display_data"
    }
   ],
   "source": [
    "import requests\n",
    "import datetime\n",
    "import matplotlib.pyplot as plt\n",
    "\n",
    "def get_market_cap_history(coin_id, start_date, end_date):\n",
    "    url = f\"https://api.coingecko.com/api/v3/coins/{coin_id}/market_chart/range\"\n",
    "\n",
    "    # Parámetros de la API\n",
    "    params = {\n",
    "        \"vs_currency\": \"usd\",\n",
    "        \"from\": int(start_date.timestamp()),\n",
    "        \"to\": int(end_date.timestamp())\n",
    "    }\n",
    "\n",
    "    response = requests.get(url, params=params)\n",
    "    data = response.json()\n",
    "    return data\n",
    "\n",
    "# Fechas de inicio y fin\n",
    "start_date = datetime.datetime(2020, 1, 1)\n",
    "end_date = datetime.datetime(2023, 1, 1)\n",
    "\n",
    "# Lista de criptomonedas\n",
    "coins_analysis = ['bitcoin', 'ethereum', 'cardano', 'polkadot', 'ripple', 'dogecoin', 'usd-coin', 'binancecoin', 'solana']\n",
    "\n",
    "# Crear la figura del gráfico\n",
    "plt.figure(figsize=(12, 8))\n",
    "\n",
    "# Graficar la capitalización de mercado de cada criptomoneda\n",
    "for coin_id in coins_analysis:\n",
    "    coin_data = get_market_cap_history(coin_id, start_date, end_date)\n",
    "    market_caps = [entry[1] for entry in coin_data['market_caps']]\n",
    "    dates = [datetime.datetime.fromtimestamp(entry[0] / 1000) for entry in coin_data['prices']]\n",
    "\n",
    "    # Gráfico de capitalización de mercado\n",
    "    plt.plot(dates, market_caps, label=coin_id)\n",
    "\n",
    "# Personalizar el gráfico\n",
    "plt.xlabel('Fecha')\n",
    "plt.ylabel('Capitalización de Mercado (USD)')\n",
    "plt.title('Capitalización de Mercado de Criptomonedas (2020-2023)')\n",
    "plt.grid(True)\n",
    "plt.legend()\n",
    "plt.xticks(rotation=45)\n",
    "plt.tight_layout()\n",
    "\n",
    "# Mostrar el gráfico\n",
    "plt.show()\n"
   ]
  },
  {
   "attachments": {},
   "cell_type": "markdown",
   "metadata": {},
   "source": [
    "### Capitalización de mercados de las criptomonedas entre el 2020 y el 2023\n",
    "Como se ha mencionado anteriormente en este análisis, las principales criptomonedas que presentan dinámicas mas asentuadas en su comportamiento de mercado son el bitcoin y el ethereum presentando lo que se podría denominar como comportamientos espejo presentando una correlación entre ambos activos que mas adelante explicare.\n",
    "\n",
    "Lo anterior quiere decir que existe una correlación entre el comportamiento de la capitalización del mercado en el tiempo entre el bitcoin y el ethereum, es decir que en los espacios de tiempo en los que el bitcoin incrementa su participación de mercado el ethereeum reacciona de la misma manera, aunque por la presentación de las lineas de tiempo esa reacción del ethereum tiene una pendiente menos profunda en las tendencias bajistas y alcitas. \n",
    "\n",
    "Este comportamiento se hace esepcialmente evidente durante el año 2020 en donde la tendencia alcista del bitcoin era seguido por el ethereum, hasta los últimos meses del año en donde el bitcoin repuntó al alza mientras que ese repunte se envidencia en el ethereum recién empezando el año 2021. De igual manera, luego tener comportamientos de subidas y bajadas la capitalización de mercado para ambas monedas presentó disminuciones. Para el caso del ethereum, la capitalización de mercado a finales del año 2022 es similar a las del año 2020.\n",
    "\n",
    "---\n"
   ]
  }
 ],
 "metadata": {
  "kernelspec": {
   "display_name": "base",
   "language": "python",
   "name": "python3"
  },
  "language_info": {
   "codemirror_mode": {
    "name": "ipython",
    "version": 3
   },
   "file_extension": ".py",
   "mimetype": "text/x-python",
   "name": "python",
   "nbconvert_exporter": "python",
   "pygments_lexer": "ipython3",
   "version": "3.9.13"
  },
  "orig_nbformat": 4,
  "vscode": {
   "interpreter": {
    "hash": "701d4f28dcd0866722f5108a3a4cbcd08882d26398b6d44117e791d7b8102912"
   }
  }
 },
 "nbformat": 4,
 "nbformat_minor": 2
}
